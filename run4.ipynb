{
 "cells": [
  {
   "cell_type": "code",
   "execution_count": 1,
   "metadata": {
    "ExecuteTime": {
     "end_time": "2024-12-05T01:49:48.855347Z",
     "start_time": "2024-12-05T01:49:48.812414Z"
    },
    "executionInfo": {
     "elapsed": 7,
     "status": "ok",
     "timestamp": 1733056535581,
     "user": {
      "displayName": "Nikhil Kapila",
      "userId": "09064794466394477334"
     },
     "user_tz": -240
    },
    "id": "HzGqs5YML3zs"
   },
   "outputs": [],
   "source": [
    "%load_ext autoreload\n",
    "%autoreload 2"
   ]
  },
  {
   "cell_type": "code",
   "execution_count": 2,
   "metadata": {
    "ExecuteTime": {
     "end_time": "2024-12-05T01:49:50.460443Z",
     "start_time": "2024-12-05T01:49:50.374113Z"
    },
    "colab": {
     "base_uri": "https://localhost:8080/"
    },
    "executionInfo": {
     "elapsed": 7,
     "status": "ok",
     "timestamp": 1733056535581,
     "user": {
      "displayName": "Nikhil Kapila",
      "userId": "09064794466394477334"
     },
     "user_tz": -240
    },
    "id": "lxGp3x5ST-Or",
    "outputId": "bcc0d066-b0bf-4688-8747-0819a585fb76"
   },
   "outputs": [
    {
     "name": "stdout",
     "output_type": "stream",
     "text": [
      "\u001b[0m\u001b[01;34mCNNtention\u001b[0m/  \u001b[01;34massignment4\u001b[0m/  \u001b[01;34mexamples\u001b[0m/  \u001b[01;32mgetting_started.ipynb\u001b[0m*  \u001b[01;34mmlruns\u001b[0m/\n",
      "/teamspace/studios/this_studio/CNNtention\n"
     ]
    },
    {
     "name": "stderr",
     "output_type": "stream",
     "text": [
      "/home/zeus/miniconda3/envs/cloudspace/lib/python3.10/site-packages/IPython/core/magics/osm.py:417: UserWarning: using dhist requires you to install the `pickleshare` library.\n",
      "  self.shell.db['dhist'] = compress_dhist(dhist)[-100:]\n"
     ]
    }
   ],
   "source": [
    "%ls\n",
    "%cd CNNtention/"
   ]
  },
  {
   "cell_type": "code",
   "execution_count": 3,
   "metadata": {
    "ExecuteTime": {
     "end_time": "2024-12-05T01:50:04.792519Z",
     "start_time": "2024-12-05T01:49:53.230058Z"
    },
    "executionInfo": {
     "elapsed": 320,
     "status": "ok",
     "timestamp": 1733056612346,
     "user": {
      "displayName": "Nikhil Kapila",
      "userId": "09064794466394477334"
     },
     "user_tz": -240
    },
    "id": "eUH0jzrXPs59"
   },
   "outputs": [],
   "source": [
    "import pipeline_template, mlflow, torch, torchvision\n",
    "from experiment_configs import configs, ExperimentConfig, ModelConfig, DataConfig\n",
    "from models.resnet_cbam import ResnetCBAM\n",
    "from models.original_basic_block import OriginalBasicBlock\n",
    "from skorch.callbacks import LRScheduler\n",
    "from skorch.dataset import ValidSplit\n",
    "from torch.optim.lr_scheduler import MultiStepLR\n",
    "from torchvision.transforms import transforms\n",
    "mlflow.set_tracking_uri('file:./mlruns')"
   ]
  },
  {
   "cell_type": "code",
   "execution_count": 6,
   "metadata": {},
   "outputs": [],
   "source": [
    "config={\"cifar10_resnet20_cbam_training\": lambda: ExperimentConfig(\n",
    "\"CBAM ResNet20\",\n",
    "DataConfig(name='CIFAR-10',\n",
    "                   test_size=10000,\n",
    "                   train_transform=transforms.Compose([\n",
    "                transforms.RandomHorizontalFlip(0.5),\n",
    "                transforms.RandomCrop(32, padding=4),\n",
    "                transforms.ToTensor(),\n",
    "                transforms.Normalize(mean=[0.4918687901200927, 0.49185976472299225, 0.4918583862227116], std=[0.24697121702736, 0.24696766978537033, 0.2469719877121087])\n",
    "            ]),\n",
    "            test_transform=transforms.Compose([\n",
    "                transforms.ToTensor(),\n",
    "                transforms.Normalize(mean=[0.4918687901200927, 0.49185976472299225, 0.4918583862227116], std=[0.24697121702736, 0.24696766978537033, 0.2469719877121087])\n",
    "            ])),\n",
    "        ModelConfig(model=ResnetCBAM(OriginalBasicBlock,[3, 3, 3], 10, 8),\n",
    "                    lr=0.005,\n",
    "                    optimizer=torch.optim.Adam,\n",
    "                    batch_size=128,\n",
    "                    max_epochs=64000//(45000 // 128),\n",
    "                    weight_decay=0.0001,\n",
    "                    momentum=0.9,\n",
    "                    use_reg=True,\n",
    "                    train_split=ValidSplit(cv=0.1),\n",
    "                    scheduler=LRScheduler(\n",
    "                        policy=MultiStepLR,\n",
    "                        milestones=[\n",
    "                            16000 // (45000 // 128), # == 45\n",
    "                            32000 // (45000 // 128), # == 91\n",
    "                            48000 // (45000 // 128) # == 136\n",
    "                        ],\n",
    "                        gamma=0.1 # this is the multiplication factor (\"divide it by 10\")\n",
    "                    ),\n",
    "                    add_test_set_eval=False,\n",
    "                    use_early_stopping=False,\n",
    "                    log_model=True)\n",
    "    )}"
   ]
  },
  {
   "cell_type": "code",
   "execution_count": null,
   "metadata": {
    "ExecuteTime": {
     "end_time": "2024-12-05T02:19:03.038116Z",
     "start_time": "2024-12-05T02:18:03.782360Z"
    },
    "colab": {
     "base_uri": "https://localhost:8080/",
     "height": 1000
    },
    "executionInfo": {
     "elapsed": 10729388,
     "status": "error",
     "timestamp": 1733067387440,
     "user": {
      "displayName": "Nikhil Kapila",
      "userId": "09064794466394477334"
     },
     "user_tz": -240
    },
    "id": "mn5yy8TcP9wK",
    "outputId": "a0edfec3-4acb-48c1-80d2-2bd2838702f6"
   },
   "outputs": [],
   "source": [
    "pipeline_template.main('cifar10_resnet20_cbam_training',  True, config)"
   ]
  },
  {
   "cell_type": "code",
   "execution_count": null,
   "metadata": {
    "id": "WQ6NKZjHTjHs"
   },
   "outputs": [],
   "source": []
  }
 ],
 "metadata": {
  "accelerator": "GPU",
  "colab": {
   "authorship_tag": "ABX9TyOjp9pu5mZ+Cda9L9TIqCFR",
   "gpuType": "T4",
   "mount_file_id": "1MsxxehWF_rTX3jgxdJo0xzwn_TKyIP9Z",
   "provenance": []
  },
  "kernelspec": {
   "display_name": "Python 3 (ipykernel)",
   "language": "python",
   "name": "python3"
  },
  "language_info": {
   "name": "python"
  }
 },
 "nbformat": 4,
 "nbformat_minor": 0
}
