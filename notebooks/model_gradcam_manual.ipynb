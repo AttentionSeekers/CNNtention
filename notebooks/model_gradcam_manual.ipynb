{
 "cells": [
  {
   "cell_type": "code",
   "execution_count": 1,
   "metadata": {},
   "outputs": [],
   "source": [
    "#!/usr/bin/env python3\n",
    "# -*- coding: utf-8 -*-\n",
    "\"\"\"\n",
    "Created on 2024-12-04 18:29:52 Wednesday\n",
    "\n",
    "@author: Nikhil Kapila\n",
    "\"\"\"\n",
    "\n",
    "import torch, torchvision, mlflow, sys, os\n",
    "import torchvision.transforms as transforms\n",
    "import matplotlib.pyplot as plt\n",
    "from pytorch_grad_cam import GradCAM\n",
    "from pytorch_grad_cam.utils.image import show_cam_on_image, preprocess_image\n",
    "sys.path.append(os.path.abspath(os.path.join(os.getcwd(),'..')))\n",
    "from utils.model_loader import MLFlowModelLoader"
   ]
  },
  {
   "cell_type": "code",
   "execution_count": 2,
   "metadata": {},
   "outputs": [],
   "source": [
    "def test_some(model, data, num_images=5):\n",
    "    transform=transforms.Compose([\n",
    "                transforms.RandomHorizontalFlip(0.5),\n",
    "                transforms.RandomCrop(32, padding=4),\n",
    "                transforms.ToTensor(),\n",
    "                transforms.Normalize(mean=[0.4918687901200927, 0.49185976472299225, 0.4918583862227116], std=[0.24697121702736, 0.24696766978537033, 0.2469719877121087])\n",
    "            ])\n",
    "    import random\n",
    "    index = random.sample(range(len(data)), num_images)\n",
    "    model.eval()\n",
    "    for i in index:\n",
    "        image, label = data[i]\n",
    "        input = transform(image).unsqueeze(0)\n",
    "        with torch.no_grad():\n",
    "            output = model(input)\n",
    "            predicted = output.argmax().item()\n",
    "\n",
    "            plt.figure(figsize=(1,1))\n",
    "            plt.imshow(image)\n",
    "            plt.axis('off')\n",
    "            plt.show()\n",
    "            print(f'predicted: {predicted}')\n",
    "            print(f'label: {label}')\n",
    "\n",
    "def test_some_gradcam(model1, model2, data, num_images=5):\n",
    "    transform=transforms.Compose([\n",
    "                transforms.RandomHorizontalFlip(0.5),\n",
    "                transforms.RandomCrop(32, padding=4),\n",
    "                transforms.ToTensor(),\n",
    "                transforms.Normalize(mean=[0.4918687901200927, 0.49185976472299225, 0.4918583862227116], std=[0.24697121702736, 0.24696766978537033, 0.2469719877121087])\n",
    "            ])\n",
    "    import random\n",
    "    index = random.sample(range(len(data)), num_images)\n",
    "    model1.eval()\n",
    "    model2.eval()\n",
    "\n",
    "    grad_cam1 = GradCAM(model=model1, target_layers=[model1.layer1[-1]])\n",
    "    grad_cam2 = GradCAM(model=model2, target_layers=[model2.layer1[-1]])\n",
    "\n",
    "    for i in index:\n",
    "        image, label = data[i]\n",
    "        input = transform(image).unsqueeze(0)\n",
    "\n",
    "        with torch.no_grad():\n",
    "            output1 = model1(input)\n",
    "            predicted1 = output1.argmax().item()\n",
    "            output2 = model2(input)\n",
    "            predicted2 = output2.argmax().item()\n",
    "\n",
    "            # Grad-CAM heatmaps\n",
    "        grayscale_cam1 = grad_cam1(input_tensor=input)\n",
    "        grayscale_cam2 = grad_cam2(input_tensor=input)\n",
    "\n",
    "        # heatmap1 = show_cam_on_image(image.permute(1, 2, 0).numpy(), grayscale_cam1[0], use_rgb=True)\n",
    "        # heatmap2 = show_cam_on_image(image.permute(1, 2, 0).numpy(), grayscale_cam2[0], use_rgb=True)\n",
    "\n",
    "        # Plot the results\n",
    "        plt.figure(figsize=(10, 6))\n",
    "\n",
    "        # Original Image\n",
    "        plt.subplot(2, 3, 1)\n",
    "        plt.imshow(image)\n",
    "\n",
    "        plt.title(f\"Original Image\\nLabel: {label}\")\n",
    "        plt.axis(\"off\")\n",
    "\n",
    "        # # Model 1 Grad-CAM\n",
    "        # plt.subplot(2, 3, 2)\n",
    "        # plt.imshow(heatmap1)\n",
    "        # plt.title(f\"Model 1 Grad-CAM\\nPredicted: {predicted1}\")\n",
    "        # plt.axis(\"off\")\n",
    "\n",
    "        # # Model 2 Grad-CAM\n",
    "        # plt.subplot(2, 3, 3)\n",
    "        # plt.imshow(heatmap2)\n",
    "        # plt.title(f\"Model 2 Grad-CAM\\nPredicted: {predicted2}\")\n",
    "        # plt.axis(\"off\")\n",
    "\n",
    "        # Model 1 Prediction Only\n",
    "        plt.subplot(2, 3, 4)\n",
    "        plt.imshow(image)\n",
    "        plt.title(f\"Model 1\\nPrediction: {predicted1}\")\n",
    "        plt.axis(\"off\")\n",
    "\n",
    "        # Model 2 Prediction Only\n",
    "        plt.subplot(2, 3, 5)\n",
    "        plt.imshow(image)\n",
    "        plt.title(f\"Model 2\\nPrediction: {predicted2}\")\n",
    "        plt.axis(\"off\")\n",
    "\n",
    "        plt.tight_layout()\n",
    "        plt.show()\n",
    "\n",
    "            # plt.figure(figsize=(1,1))\n",
    "            # plt.imshow(image)\n",
    "            # plt.axis('off')\n",
    "            # plt.show()\n",
    "            # print(f'predicted: {predicted}')\n",
    "            # print(f'label: {label}')\n",
    "\n",
    "def load_data(name='CIFAR-10'):\n",
    "    if name == 'CIFAR-10':\n",
    "        train_set = torchvision.datasets.CIFAR10(root='../data',\n",
    "                                                 train=True,\n",
    "                                                 download=True)\n",
    "    return train_set\n",
    "\n",
    "transform=transforms.Compose([\n",
    "                transforms.RandomHorizontalFlip(0.5),\n",
    "                transforms.RandomCrop(32, padding=4),\n",
    "                transforms.ToTensor(),\n",
    "                transforms.Normalize(mean=[0.4918687901200927, 0.49185976472299225, 0.4918583862227116], std=[0.24697121702736, 0.24696766978537033, 0.2469719877121087])\n",
    "            ])"
   ]
  },
  {
   "cell_type": "markdown",
   "metadata": {},
   "source": [
    "## Models Loading"
   ]
  },
  {
   "cell_type": "code",
   "execution_count": 3,
   "metadata": {},
   "outputs": [],
   "source": [
    "from models.cifar10resnet import Cifar10ResNet\n",
    "from models.resnet_self_att import ResnetSelfAtt\n",
    "from models.resnet_multi_head_att import ResnetMultiHeadAtt\n",
    "from models.original_basic_block import OriginalBasicBlock"
   ]
  },
  {
   "cell_type": "code",
   "execution_count": null,
   "metadata": {},
   "outputs": [
    {
     "name": "stdout",
     "output_type": "stream",
     "text": [
      "It seems that the model for this run was not logged.\n",
      "[Errno 2] No such file or directory: '/Users/nkapila6/Code/CNNtention/mlruns/394260821350326426/8da960ad489b42fc8594b98d6daffc86/artifacts/model/data'\n",
      "Object params.pth loaded.\n"
     ]
    },
    {
     "name": "stderr",
     "output_type": "stream",
     "text": [
      "/Users/nkapila6/Code/CNNtention/utils/model_loader.py:62: FutureWarning: You are using `torch.load` with `weights_only=False` (the current default value), which uses the default pickle module implicitly. It is possible to construct malicious pickle data which will execute arbitrary code during unpickling (See https://github.com/pytorch/pytorch/blob/main/SECURITY.md#untrusted-models for more details). In a future release, the default value for `weights_only` will be flipped to `True`. This limits the functions that could be executed during unpickling. Arbitrary objects will no longer be allowed to be loaded via this mode unless they are explicitly allowlisted by the user via `torch.serialization.add_safe_globals`. We recommend you start setting `weights_only=True` for any use case where you don't have full control of the loaded file. Please open an issue on GitHub for any issues related to this experimental feature.\n",
      "  object.load_state_dict(torch.load(path, map_location=torch.device(device)))\n"
     ]
    }
   ],
   "source": [
    "base_model = Cifar10ResNet(\n",
    "    OriginalBasicBlock,\n",
    "    [3, 3, 3],\n",
    "    10\n",
    ")\n",
    "\n",
    "loader = MLFlowModelLoader(run_id='8da960ad489b42fc8594b98d6daffc86', \n",
    "                           experiment_id='394260821350326426',\n",
    "                           tracking_uri='', False)\n",
    "\n",
    "resnet20 = loader.load_weights(base_model)"
   ]
  },
  {
   "cell_type": "code",
   "execution_count": 8,
   "metadata": {},
   "outputs": [
    {
     "data": {
      "text/plain": [
       "'Cifar10ResNet'"
      ]
     },
     "execution_count": 8,
     "metadata": {},
     "output_type": "execute_result"
    }
   ],
   "source": [
    "type(resnet20).__name__"
   ]
  },
  {
   "cell_type": "code",
   "execution_count": 10,
   "metadata": {},
   "outputs": [
    {
     "name": "stdout",
     "output_type": "stream",
     "text": [
      "Object params.pth loaded.\n"
     ]
    },
    {
     "name": "stderr",
     "output_type": "stream",
     "text": [
      "/Users/nkapila6/Code/CNNtention/utils/model_loader.py:62: FutureWarning: You are using `torch.load` with `weights_only=False` (the current default value), which uses the default pickle module implicitly. It is possible to construct malicious pickle data which will execute arbitrary code during unpickling (See https://github.com/pytorch/pytorch/blob/main/SECURITY.md#untrusted-models for more details). In a future release, the default value for `weights_only` will be flipped to `True`. This limits the functions that could be executed during unpickling. Arbitrary objects will no longer be allowed to be loaded via this mode unless they are explicitly allowlisted by the user via `torch.serialization.add_safe_globals`. We recommend you start setting `weights_only=True` for any use case where you don't have full control of the loaded file. Please open an issue on GitHub for any issues related to this experimental feature.\n",
      "  object.load_state_dict(torch.load(path, map_location=torch.device(device)))\n"
     ]
    }
   ],
   "source": [
    "self_att_model = ResnetSelfAtt(OriginalBasicBlock,\n",
    "                               [3, 3, 3],\n",
    "                               10\n",
    "                               )\n",
    "\n",
    "loader2 = MLFlowModelLoader(run_id='e424cebd75384e3e85c854098d60f3d2',\n",
    "                           experiment_id='833036032974162673',\n",
    "                           tracking_uri='',\n",
    "                           ui_open=False)\n",
    "\n",
    "resnet20selfatt = loader2.load_weights(self_att_model)"
   ]
  },
  {
   "cell_type": "code",
   "execution_count": 11,
   "metadata": {},
   "outputs": [
    {
     "data": {
      "text/plain": [
       "'ResnetSelfAtt'"
      ]
     },
     "execution_count": 11,
     "metadata": {},
     "output_type": "execute_result"
    }
   ],
   "source": [
    "type(resnet20selfatt).__name__"
   ]
  },
  {
   "cell_type": "code",
   "execution_count": 12,
   "metadata": {},
   "outputs": [
    {
     "name": "stdout",
     "output_type": "stream",
     "text": [
      "Object params.pth loaded.\n"
     ]
    },
    {
     "name": "stderr",
     "output_type": "stream",
     "text": [
      "/Users/nkapila6/Code/CNNtention/utils/model_loader.py:62: FutureWarning: You are using `torch.load` with `weights_only=False` (the current default value), which uses the default pickle module implicitly. It is possible to construct malicious pickle data which will execute arbitrary code during unpickling (See https://github.com/pytorch/pytorch/blob/main/SECURITY.md#untrusted-models for more details). In a future release, the default value for `weights_only` will be flipped to `True`. This limits the functions that could be executed during unpickling. Arbitrary objects will no longer be allowed to be loaded via this mode unless they are explicitly allowlisted by the user via `torch.serialization.add_safe_globals`. We recommend you start setting `weights_only=True` for any use case where you don't have full control of the loaded file. Please open an issue on GitHub for any issues related to this experimental feature.\n",
      "  object.load_state_dict(torch.load(path, map_location=torch.device(device)))\n"
     ]
    }
   ],
   "source": [
    "multi_head_att = ResnetMultiHeadAtt(OriginalBasicBlock,\n",
    "                               [3, 3, 3],\n",
    "                               10\n",
    "                               )\n",
    "\n",
    "loader3 = MLFlowModelLoader(run_id='64b2f1d30ba9435c9d388ffa9de05176',\n",
    "                           experiment_id='276308263984292219',\n",
    "                           tracking_uri='',\n",
    "                           ui_open=False)\n",
    "\n",
    "resnet20mhatt = loader3.load_weights(multi_head_att)"
   ]
  },
  {
   "cell_type": "code",
   "execution_count": 13,
   "metadata": {},
   "outputs": [
    {
     "data": {
      "text/plain": [
       "'ResnetMultiHeadAtt'"
      ]
     },
     "execution_count": 13,
     "metadata": {},
     "output_type": "execute_result"
    }
   ],
   "source": [
    "type(resnet20mhatt).__name__"
   ]
  },
  {
   "cell_type": "code",
   "execution_count": null,
   "metadata": {},
   "outputs": [
    {
     "name": "stdout",
     "output_type": "stream",
     "text": [
      "Files already downloaded and verified\n",
      "14898\n"
     ]
    },
    {
     "data": {
      "image/png": "[encoded data removed]",
      "text/plain": [
       "<Figure size 600x600 with 4 Axes>"
      ]
     },
     "metadata": {},
     "output_type": "display_data"
    }
   ],
   "source": [
    "# https://jacobgil.github.io/pytorch-gradcam-book/introduction.html#using-from-code-as-a-library\n",
    "\n",
    "import numpy as np\n",
    "train = load_data()\n",
    "resnet20_target = [resnet20.layer3[-1]]\n",
    "resnet20_selfatt_target = [resnet20selfatt.layer3[-1]]\n",
    "resnet20_mhatt_target = [resnet20mhatt.layer3[-1]]\n",
    "# target_layers = [resnet20.layer3[-1], resnet20selfatt.layer3[-1]]\n",
    "# Create an input tensor image for your model..\n",
    "import random\n",
    "index = random.sample(range(len(train)), 1)[0]\n",
    "image, label = train[index]\n",
    "input_tensor = transform(image).unsqueeze(0)\n",
    "# Note: input_tensor can be a batch tensor with several images!\n",
    "\n",
    "# Construct the CAM object once, and then re-use it on many images:\n",
    "cam1 = GradCAM(model=resnet20, target_layers=resnet20_target) #, use_cuda=args.use_cuda)\n",
    "cam2 = GradCAM(model=resnet20selfatt, target_layers=resnet20_selfatt_target) #, use_cuda=args.use_cuda)\n",
    "cam3 = GradCAM(model=resnet20mhatt, target_layers=resnet20_mhatt_target) #, use_cuda=args.use_cuda)\n",
    "\n",
    "# You can also use it within a with statement, to make sure it is freed,\n",
    "# In case you need to re-create it inside an outer loop:\n",
    "# with GradCAM(model=model, target_layers=target_layers, use_cuda=args.use_cuda) as cam:\n",
    "#   ...\n",
    "\n",
    "# We have to specify the target we want to generate\n",
    "# the Class Activation Maps for.\n",
    "# If targets is None, the highest scoring category\n",
    "# will be used for every image in the batch.\n",
    "# Here we use ClassifierOutputTarget, but you can define your own custom targets\n",
    "# That are, for example, combinations of categories, or specific outputs in a non standard model.\n",
    "from pytorch_grad_cam.utils.model_targets import ClassifierOutputTarget\n",
    "targets = [ClassifierOutputTarget(label)]\n",
    "\n",
    "grayscale_cam1 = cam1(input_tensor=input_tensor, targets=targets)[0]  # First image in the batch\n",
    "grayscale_cam2 = cam2(input_tensor=input_tensor, targets=targets)[0]\n",
    "grayscale_cam3 = cam3(input_tensor=input_tensor, targets=targets)[0]\n",
    "\n",
    "# Convert the original image to a numpy array (normalized to [0, 1] for display)\n",
    "rgb_img = np.array(image) / 255.0  # Convert PIL image to numpy array\n",
    "\n",
    "# Create visualizations\n",
    "visualization1 = show_cam_on_image(rgb_img, grayscale_cam1, use_rgb=True)\n",
    "visualization2 = show_cam_on_image(rgb_img, grayscale_cam2, use_rgb=True)\n",
    "visualization3 = show_cam_on_image(rgb_img, grayscale_cam3, use_rgb=True)\n",
    "\n",
    "print(index)\n",
    "# Plot the results\n",
    "plt.figure(figsize=(6,6))\n",
    "\n",
    "# Original image\n",
    "plt.subplot(1, 4, 1)\n",
    "plt.imshow(rgb_img)\n",
    "plt.title(f\"Original Image\\nLabel: {label}\")\n",
    "plt.axis(\"off\")\n",
    "\n",
    "# Grad-CAM visualization for resnet20\n",
    "plt.subplot(1, 4, 2)\n",
    "plt.imshow(visualization1)\n",
    "plt.title(f\"Grad-CAM:\\nResNet20\")\n",
    "plt.axis(\"off\")\n",
    "\n",
    "# Grad-CAM visualization for resnet20selfatt\n",
    "plt.subplot(1, 4, 3)\n",
    "plt.imshow(visualization2)\n",
    "plt.title(f\"Grad-CAM:\\nResNet20SelfAtt\")\n",
    "plt.axis(\"off\")\n",
    "\n",
    "# Grad-CAM visualization for resnet20mha\n",
    "plt.subplot(1, 4, 4)\n",
    "plt.imshow(visualization3)\n",
    "plt.title(f\"Grad-CAM:\\nResNet20MHAtt\")\n",
    "plt.axis(\"off\")\n",
    "\n",
    "plt.tight_layout()\n",
    "plt.show()"
   ]
  }
 ],
 "metadata": {
  "kernelspec": {
   "display_name": "dl",
   "language": "python",
   "name": "python3"
  },
  "language_info": {
   "codemirror_mode": {
    "name": "ipython",
    "version": 3
   },
   "file_extension": ".py",
   "mimetype": "text/x-python",
   "name": "python",
   "nbconvert_exporter": "python",
   "pygments_lexer": "ipython3",
   "version": "3.10.15"
  }
 },
 "nbformat": 4,
 "nbformat_minor": 2
}
