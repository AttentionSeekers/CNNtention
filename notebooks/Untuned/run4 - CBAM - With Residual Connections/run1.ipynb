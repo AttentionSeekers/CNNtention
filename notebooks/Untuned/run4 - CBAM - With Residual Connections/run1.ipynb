{
 "nbformat": 4,
 "nbformat_minor": 0,
 "metadata": {
  "colab": {
   "provenance": [],
   "gpuType": "T4",
   "mount_file_id": "1MsxxehWF_rTX3jgxdJo0xzwn_TKyIP9Z",
   "authorship_tag": "ABX9TyOjp9pu5mZ+Cda9L9TIqCFR"
  },
  "kernelspec": {
   "name": "python3",
   "display_name": "Python 3 (ipykernel)",
   "language": "python"
  },
  "language_info": {
   "name": "python"
  },
  "accelerator": "GPU"
 },
 "cells": [
  {
   "cell_type": "code",
   "metadata": {
    "id": "FkEqdyeeOeJ6",
    "colab": {
     "base_uri": "https://localhost:8080/"
    },
    "collapsed": true,
    "executionInfo": {
     "status": "ok",
     "timestamp": 1733056535580,
     "user_tz": -240,
     "elapsed": 31929,
     "user": {
      "displayName": "Nikhil Kapila",
      "userId": "09064794466394477334"
     }
    },
    "outputId": "d0123cad-b620-4e8e-9093-88b9d1446ce9",
    "ExecuteTime": {
     "end_time": "2024-12-05T01:49:39.909523Z",
     "start_time": "2024-12-05T01:49:39.413736Z"
    }
   },
   "source": [
    "from google.colab import drive\n",
    "drive.mount('/content/drive')\n",
    "!ls /content/drive/MyDrive/cs7643\n",
    "import sys\n",
    "sys.path.append('/content/drive/MyDrive/cs7643')\n",
    "!pip install mlflow skorch\n",
    "# !pip install Ipython --upgrade\n",
    "%cd /content/drive/MyDrive/cs7643"
   ],
   "outputs": [
    {
     "ename": "ModuleNotFoundError",
     "evalue": "No module named 'google.colab'",
     "output_type": "error",
     "traceback": [
      "\u001B[1;31m---------------------------------------------------------------------------\u001B[0m",
      "\u001B[1;31mModuleNotFoundError\u001B[0m                       Traceback (most recent call last)",
      "Cell \u001B[1;32mIn[1], line 1\u001B[0m\n\u001B[1;32m----> 1\u001B[0m \u001B[38;5;28;01mfrom\u001B[39;00m \u001B[38;5;21;01mgoogle\u001B[39;00m\u001B[38;5;21;01m.\u001B[39;00m\u001B[38;5;21;01mcolab\u001B[39;00m \u001B[38;5;28;01mimport\u001B[39;00m drive\n\u001B[0;32m      2\u001B[0m drive\u001B[38;5;241m.\u001B[39mmount(\u001B[38;5;124m'\u001B[39m\u001B[38;5;124m/content/drive\u001B[39m\u001B[38;5;124m'\u001B[39m)\n\u001B[0;32m      3\u001B[0m get_ipython()\u001B[38;5;241m.\u001B[39msystem(\u001B[38;5;124m'\u001B[39m\u001B[38;5;124mls /content/drive/MyDrive/cs7643\u001B[39m\u001B[38;5;124m'\u001B[39m)\n",
      "\u001B[1;31mModuleNotFoundError\u001B[0m: No module named 'google.colab'"
     ]
    }
   ],
   "execution_count": 1
  },
  {
   "cell_type": "code",
   "source": [
    "%load_ext autoreload\n",
    "%autoreload 2"
   ],
   "metadata": {
    "id": "HzGqs5YML3zs",
    "executionInfo": {
     "status": "ok",
     "timestamp": 1733056535581,
     "user_tz": -240,
     "elapsed": 7,
     "user": {
      "displayName": "Nikhil Kapila",
      "userId": "09064794466394477334"
     }
    },
    "ExecuteTime": {
     "end_time": "2024-12-05T01:49:48.855347Z",
     "start_time": "2024-12-05T01:49:48.812414Z"
    }
   },
   "outputs": [],
   "execution_count": 2
  },
  {
   "cell_type": "code",
   "source": [
    "%ls"
   ],
   "metadata": {
    "colab": {
     "base_uri": "https://localhost:8080/"
    },
    "id": "lxGp3x5ST-Or",
    "executionInfo": {
     "status": "ok",
     "timestamp": 1733056535581,
     "user_tz": -240,
     "elapsed": 7,
     "user": {
      "displayName": "Nikhil Kapila",
      "userId": "09064794466394477334"
     }
    },
    "outputId": "bcc0d066-b0bf-4688-8747-0819a585fb76",
    "ExecuteTime": {
     "end_time": "2024-12-05T01:49:50.460443Z",
     "start_time": "2024-12-05T01:49:50.374113Z"
    }
   },
   "outputs": [
    {
     "name": "stdout",
     "output_type": "stream",
     "text": [
      " Volume in drive D is New Volume\n",
      " Volume Serial Number is 8AC3-D420\n",
      "\n",
      " Directory of D:\\OMSCS\\CS7643 Deep Learning\\CNNtention\\notebooks\\Untuned\\run1 - CBAM - With Residual Connections\n",
      "\n",
      "05-12-2024  07:19    <DIR>          .\n",
      "05-12-2024  06:22    <DIR>          ..\n",
      "03-12-2024  00:25    <DIR>          plots\n",
      "05-12-2024  07:19             6,540 run1.ipynb\n",
      "               1 File(s)          6,540 bytes\n",
      "               3 Dir(s)  175,595,909,120 bytes free\n"
     ]
    }
   ],
   "execution_count": 3
  },
  {
   "cell_type": "code",
   "source": [
    "import pipeline_template\n",
    "import mlflow\n",
    "from experiment_configs import configs\n",
    "mlflow.set_tracking_uri('file:/D:/OMSCS/CS7643 Deep Learning/CNNtention/mlruns')"
   ],
   "metadata": {
    "id": "eUH0jzrXPs59",
    "executionInfo": {
     "status": "ok",
     "timestamp": 1733056612346,
     "user_tz": -240,
     "elapsed": 320,
     "user": {
      "displayName": "Nikhil Kapila",
      "userId": "09064794466394477334"
     }
    },
    "ExecuteTime": {
     "end_time": "2024-12-05T01:50:04.792519Z",
     "start_time": "2024-12-05T01:49:53.230058Z"
    }
   },
   "outputs": [],
   "execution_count": 4
  },
  {
   "cell_type": "code",
   "source": [
    "config = configs['cifar10_resnet20_cbam_training']()\n",
    "print(config.model_config.model)"
   ],
   "metadata": {
    "colab": {
     "base_uri": "https://localhost:8080/"
    },
    "id": "-zwOjYObDnon",
    "executionInfo": {
     "status": "ok",
     "timestamp": 1733056615573,
     "user_tz": -240,
     "elapsed": 497,
     "user": {
      "displayName": "Nikhil Kapila",
      "userId": "09064794466394477334"
     }
    },
    "outputId": "364f140c-d775-4da7-fc18-9420c589ffe2",
    "ExecuteTime": {
     "end_time": "2024-12-05T01:50:05.536526Z",
     "start_time": "2024-12-05T01:50:05.344385Z"
    }
   },
   "outputs": [
    {
     "name": "stdout",
     "output_type": "stream",
     "text": [
      "ResnetCBAM(\n",
      "  (conv1): Conv2d(3, 16, kernel_size=(3, 3), stride=(1, 1), padding=(1, 1), bias=False)\n",
      "  (bn1): BatchNorm2d(16, eps=1e-05, momentum=0.1, affine=True, track_running_stats=True)\n",
      "  (relu): ReLU()\n",
      "  (layer1): Sequential(\n",
      "    (0): OriginalBasicBlock(\n",
      "      (conv1): Conv2d(16, 16, kernel_size=(3, 3), stride=(1, 1), padding=(1, 1), bias=False)\n",
      "      (bn1): BatchNorm2d(16, eps=1e-05, momentum=0.1, affine=True, track_running_stats=True)\n",
      "      (relu): ReLU()\n",
      "      (conv2): Conv2d(16, 16, kernel_size=(3, 3), stride=(1, 1), padding=(1, 1), bias=False)\n",
      "      (bn2): BatchNorm2d(16, eps=1e-05, momentum=0.1, affine=True, track_running_stats=True)\n",
      "      (relu2): ReLU()\n",
      "    )\n",
      "    (1): OriginalBasicBlock(\n",
      "      (conv1): Conv2d(16, 16, kernel_size=(3, 3), stride=(1, 1), padding=(1, 1), bias=False)\n",
      "      (bn1): BatchNorm2d(16, eps=1e-05, momentum=0.1, affine=True, track_running_stats=True)\n",
      "      (relu): ReLU()\n",
      "      (conv2): Conv2d(16, 16, kernel_size=(3, 3), stride=(1, 1), padding=(1, 1), bias=False)\n",
      "      (bn2): BatchNorm2d(16, eps=1e-05, momentum=0.1, affine=True, track_running_stats=True)\n",
      "      (relu2): ReLU()\n",
      "    )\n",
      "    (2): OriginalBasicBlock(\n",
      "      (conv1): Conv2d(16, 16, kernel_size=(3, 3), stride=(1, 1), padding=(1, 1), bias=False)\n",
      "      (bn1): BatchNorm2d(16, eps=1e-05, momentum=0.1, affine=True, track_running_stats=True)\n",
      "      (relu): ReLU()\n",
      "      (conv2): Conv2d(16, 16, kernel_size=(3, 3), stride=(1, 1), padding=(1, 1), bias=False)\n",
      "      (bn2): BatchNorm2d(16, eps=1e-05, momentum=0.1, affine=True, track_running_stats=True)\n",
      "      (relu2): ReLU()\n",
      "    )\n",
      "  )\n",
      "  (att1): CBAM(\n",
      "    (channel_attention): ChannelAttention(\n",
      "      (mlp): Sequential(\n",
      "        (0): Linear(in_features=16, out_features=2, bias=False)\n",
      "        (1): ReLU(inplace=True)\n",
      "        (2): Linear(in_features=2, out_features=16, bias=False)\n",
      "      )\n",
      "    )\n",
      "    (spatial_attention): SpatialAttention(\n",
      "      (conv): Conv2d(2, 1, kernel_size=(7, 7), stride=(1, 1), padding=(3, 3))\n",
      "    )\n",
      "  )\n",
      "  (layer2): Sequential(\n",
      "    (0): OriginalBasicBlock(\n",
      "      (conv1): Conv2d(16, 32, kernel_size=(3, 3), stride=(2, 2), padding=(1, 1), bias=False)\n",
      "      (bn1): BatchNorm2d(32, eps=1e-05, momentum=0.1, affine=True, track_running_stats=True)\n",
      "      (relu): ReLU()\n",
      "      (conv2): Conv2d(32, 32, kernel_size=(3, 3), stride=(1, 1), padding=(1, 1), bias=False)\n",
      "      (bn2): BatchNorm2d(32, eps=1e-05, momentum=0.1, affine=True, track_running_stats=True)\n",
      "      (relu2): ReLU()\n",
      "    )\n",
      "    (1): OriginalBasicBlock(\n",
      "      (conv1): Conv2d(32, 32, kernel_size=(3, 3), stride=(1, 1), padding=(1, 1), bias=False)\n",
      "      (bn1): BatchNorm2d(32, eps=1e-05, momentum=0.1, affine=True, track_running_stats=True)\n",
      "      (relu): ReLU()\n",
      "      (conv2): Conv2d(32, 32, kernel_size=(3, 3), stride=(1, 1), padding=(1, 1), bias=False)\n",
      "      (bn2): BatchNorm2d(32, eps=1e-05, momentum=0.1, affine=True, track_running_stats=True)\n",
      "      (relu2): ReLU()\n",
      "    )\n",
      "    (2): OriginalBasicBlock(\n",
      "      (conv1): Conv2d(32, 32, kernel_size=(3, 3), stride=(1, 1), padding=(1, 1), bias=False)\n",
      "      (bn1): BatchNorm2d(32, eps=1e-05, momentum=0.1, affine=True, track_running_stats=True)\n",
      "      (relu): ReLU()\n",
      "      (conv2): Conv2d(32, 32, kernel_size=(3, 3), stride=(1, 1), padding=(1, 1), bias=False)\n",
      "      (bn2): BatchNorm2d(32, eps=1e-05, momentum=0.1, affine=True, track_running_stats=True)\n",
      "      (relu2): ReLU()\n",
      "    )\n",
      "  )\n",
      "  (att2): CBAM(\n",
      "    (channel_attention): ChannelAttention(\n",
      "      (mlp): Sequential(\n",
      "        (0): Linear(in_features=32, out_features=4, bias=False)\n",
      "        (1): ReLU(inplace=True)\n",
      "        (2): Linear(in_features=4, out_features=32, bias=False)\n",
      "      )\n",
      "    )\n",
      "    (spatial_attention): SpatialAttention(\n",
      "      (conv): Conv2d(2, 1, kernel_size=(7, 7), stride=(1, 1), padding=(3, 3))\n",
      "    )\n",
      "  )\n",
      "  (layer3): Sequential(\n",
      "    (0): OriginalBasicBlock(\n",
      "      (conv1): Conv2d(32, 64, kernel_size=(3, 3), stride=(2, 2), padding=(1, 1), bias=False)\n",
      "      (bn1): BatchNorm2d(64, eps=1e-05, momentum=0.1, affine=True, track_running_stats=True)\n",
      "      (relu): ReLU()\n",
      "      (conv2): Conv2d(64, 64, kernel_size=(3, 3), stride=(1, 1), padding=(1, 1), bias=False)\n",
      "      (bn2): BatchNorm2d(64, eps=1e-05, momentum=0.1, affine=True, track_running_stats=True)\n",
      "      (relu2): ReLU()\n",
      "    )\n",
      "    (1): OriginalBasicBlock(\n",
      "      (conv1): Conv2d(64, 64, kernel_size=(3, 3), stride=(1, 1), padding=(1, 1), bias=False)\n",
      "      (bn1): BatchNorm2d(64, eps=1e-05, momentum=0.1, affine=True, track_running_stats=True)\n",
      "      (relu): ReLU()\n",
      "      (conv2): Conv2d(64, 64, kernel_size=(3, 3), stride=(1, 1), padding=(1, 1), bias=False)\n",
      "      (bn2): BatchNorm2d(64, eps=1e-05, momentum=0.1, affine=True, track_running_stats=True)\n",
      "      (relu2): ReLU()\n",
      "    )\n",
      "    (2): OriginalBasicBlock(\n",
      "      (conv1): Conv2d(64, 64, kernel_size=(3, 3), stride=(1, 1), padding=(1, 1), bias=False)\n",
      "      (bn1): BatchNorm2d(64, eps=1e-05, momentum=0.1, affine=True, track_running_stats=True)\n",
      "      (relu): ReLU()\n",
      "      (conv2): Conv2d(64, 64, kernel_size=(3, 3), stride=(1, 1), padding=(1, 1), bias=False)\n",
      "      (bn2): BatchNorm2d(64, eps=1e-05, momentum=0.1, affine=True, track_running_stats=True)\n",
      "      (relu2): ReLU()\n",
      "    )\n",
      "  )\n",
      "  (att3): CBAM(\n",
      "    (channel_attention): ChannelAttention(\n",
      "      (mlp): Sequential(\n",
      "        (0): Linear(in_features=64, out_features=8, bias=False)\n",
      "        (1): ReLU(inplace=True)\n",
      "        (2): Linear(in_features=8, out_features=64, bias=False)\n",
      "      )\n",
      "    )\n",
      "    (spatial_attention): SpatialAttention(\n",
      "      (conv): Conv2d(2, 1, kernel_size=(7, 7), stride=(1, 1), padding=(3, 3))\n",
      "    )\n",
      "  )\n",
      "  (avgpool): AdaptiveAvgPool2d(output_size=(1, 1))\n",
      "  (fc): Linear(in_features=64, out_features=10, bias=True)\n",
      ")\n"
     ]
    }
   ],
   "execution_count": 5
  },
  {
   "cell_type": "code",
   "source": [
    "def get_hyperparams(config):\n",
    "  model_config = vars(config.model_config)\n",
    "\n",
    "  for key, value in model_config.items():\n",
    "    if key != 'model':\n",
    "        print(f\"{key}: {value}\")\n",
    "\n",
    "get_hyperparams(config)"
   ],
   "metadata": {
    "colab": {
     "base_uri": "https://localhost:8080/"
    },
    "id": "YmFfoZ9jIeoG",
    "executionInfo": {
     "status": "ok",
     "timestamp": 1733056654270,
     "user_tz": -240,
     "elapsed": 510,
     "user": {
      "displayName": "Nikhil Kapila",
      "userId": "09064794466394477334"
     }
    },
    "outputId": "e972a1fb-fd56-4a92-b928-05399d0fa74c",
    "ExecuteTime": {
     "end_time": "2024-12-05T01:50:07.437369Z",
     "start_time": "2024-12-05T01:50:07.285548Z"
    }
   },
   "outputs": [
    {
     "name": "stdout",
     "output_type": "stream",
     "text": [
      "lr: 0.005\n",
      "optimizer: <class 'torch.optim.sgd.SGD'>\n",
      "batch_size: 128\n",
      "max_epochs: 182\n",
      "weight_decay: 0.0001\n",
      "use_reg: True\n",
      "momentum: 0.9\n",
      "train_split: None\n",
      "scheduler: <skorch.callbacks.lr_scheduler.LRScheduler object at 0x00000223D6C62090>\n",
      "log_model: True\n",
      "use_early_stopping: False\n",
      "early_stopping_params: None\n",
      "num_heads: 4\n",
      "add_test_set_eval: True\n"
     ]
    }
   ],
   "execution_count": 6
  },
  {
   "cell_type": "code",
   "source": "pipeline_template.main('cifar10_resnet20_cbam_training')",
   "metadata": {
    "colab": {
     "base_uri": "https://localhost:8080/",
     "height": 1000
    },
    "id": "mn5yy8TcP9wK",
    "executionInfo": {
     "status": "error",
     "timestamp": 1733067387440,
     "user_tz": -240,
     "elapsed": 10729388,
     "user": {
      "displayName": "Nikhil Kapila",
      "userId": "09064794466394477334"
     }
    },
    "outputId": "a0edfec3-4acb-48c1-80d2-2bd2838702f6",
    "ExecuteTime": {
     "end_time": "2024-12-05T02:19:03.038116Z",
     "start_time": "2024-12-05T02:18:03.782360Z"
    }
   },
   "outputs": [
    {
     "name": "stdout",
     "output_type": "stream",
     "text": [
      "Files already downloaded and verified\n",
      "Files already downloaded and verified\n"
     ]
    },
    {
     "data": {
      "text/plain": [
       "  0%|          | 0/391 [00:00<?, ?it/s]"
      ],
      "application/vnd.jupyter.widget-view+json": {
       "version_major": 2,
       "version_minor": 0,
       "model_id": "a61972141b794567aa899be71dbb015b"
      }
     },
     "metadata": {},
     "output_type": "display_data"
    },
    {
     "name": "stdout",
     "output_type": "stream",
     "text": [
      "Test set accuracy: 0.2491\n",
      "Test set error: 75.09\n"
     ]
    },
    {
     "name": "stderr",
     "output_type": "stream",
     "text": [
      "2024/12/05 07:49:02 WARNING mlflow.models.model: Model logged without a signature and input example. Please set `input_example` parameter when logging the model to auto infer the model signature.\n"
     ]
    }
   ],
   "execution_count": 8
  },
  {
   "cell_type": "code",
   "source": [],
   "metadata": {
    "id": "WQ6NKZjHTjHs"
   },
   "outputs": [],
   "execution_count": null
  }
 ]
}
