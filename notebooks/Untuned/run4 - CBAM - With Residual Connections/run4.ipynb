{
 "cells": [
  {
   "cell_type": "code",
   "metadata": {
    "executionInfo": {
     "elapsed": 7,
     "status": "ok",
     "timestamp": 1733056535581,
     "user": {
      "displayName": "Nikhil Kapila",
      "userId": "09064794466394477334"
     },
     "user_tz": -240
    },
    "id": "HzGqs5YML3zs",
    "ExecuteTime": {
     "end_time": "2024-12-08T20:29:44.968420Z",
     "start_time": "2024-12-08T20:29:44.928171Z"
    }
   },
   "source": [
    "%load_ext autoreload\n",
    "%autoreload 2"
   ],
   "outputs": [
    {
     "name": "stdout",
     "output_type": "stream",
     "text": [
      "The autoreload extension is already loaded. To reload it, use:\n",
      "  %reload_ext autoreload\n"
     ]
    }
   ],
   "execution_count": 2
  },
  {
   "cell_type": "code",
   "metadata": {
    "colab": {
     "base_uri": "https://localhost:8080/"
    },
    "executionInfo": {
     "elapsed": 7,
     "status": "ok",
     "timestamp": 1733056535581,
     "user": {
      "displayName": "Nikhil Kapila",
      "userId": "09064794466394477334"
     },
     "user_tz": -240
    },
    "id": "lxGp3x5ST-Or",
    "outputId": "bcc0d066-b0bf-4688-8747-0819a585fb76",
    "ExecuteTime": {
     "end_time": "2024-12-08T20:29:45.453853Z",
     "start_time": "2024-12-08T20:29:45.044100Z"
    }
   },
   "source": [
    "%ls\n",
    "%cd CNNtention/"
   ],
   "outputs": [
    {
     "name": "stdout",
     "output_type": "stream",
     "text": [
      " Volume in drive D is New Volume\n",
      " Volume Serial Number is 8AC3-D420\n",
      "\n",
      " Directory of D:\\OMSCS\\CS7643 Deep Learning\\CNNtention\\notebooks\\Untuned\\run4 - CBAM - With Residual Connections\n",
      "\n",
      "09-12-2024  01:58    <DIR>          .\n",
      "07-12-2024  09:06    <DIR>          ..\n",
      "07-12-2024  15:41            34,317 cbam_resnet20_test_err.png\n",
      "07-12-2024  15:41            47,471 cbam_resnet20_train_and_test_err.png\n",
      "07-12-2024  15:41            34,095 cbam_resnet20_train_err.png\n",
      "07-12-2024  15:41            32,534 cbam_resnet20_train_val_loss.png\n",
      "05-12-2024  07:21    <DIR>          data\n",
      "09-12-2024  01:58             5,492 run4.ipynb\n",
      "               5 File(s)        153,909 bytes\n",
      "               3 Dir(s)  174,726,193,152 bytes free\n",
      "[WinError 2] The system cannot find the file specified: 'CNNtention/'\n",
      "D:\\OMSCS\\CS7643 Deep Learning\\CNNtention\\notebooks\\Untuned\\run4 - CBAM - With Residual Connections\n"
     ]
    },
    {
     "name": "stderr",
     "output_type": "stream",
     "text": [
      "C:\\Users\\trath\\miniconda3\\envs\\cs7643-final-project\\Lib\\site-packages\\IPython\\core\\magics\\osm.py:393: UserWarning: This is now an optional IPython functionality, using bookmarks requires you to install the `pickleshare` library.\n",
      "  bkms = self.shell.db.get('bookmarks', {})\n"
     ]
    }
   ],
   "execution_count": 3
  },
  {
   "cell_type": "code",
   "metadata": {
    "executionInfo": {
     "elapsed": 320,
     "status": "ok",
     "timestamp": 1733056612346,
     "user": {
      "displayName": "Nikhil Kapila",
      "userId": "09064794466394477334"
     },
     "user_tz": -240
    },
    "id": "eUH0jzrXPs59",
    "ExecuteTime": {
     "end_time": "2024-12-08T20:29:54.933772Z",
     "start_time": "2024-12-08T20:29:45.897479Z"
    }
   },
   "source": [
    "import pipeline_template, mlflow, torch, torchvision\n",
    "from experiment_configs import configs, ExperimentConfig, ModelConfig, DataConfig\n",
    "from models.resnet_cbam import ResnetCBAM\n",
    "from models.original_basic_block import OriginalBasicBlock\n",
    "from skorch.callbacks import LRScheduler\n",
    "from skorch.dataset import ValidSplit\n",
    "from torch.optim.lr_scheduler import MultiStepLR\n",
    "from torchvision.transforms import transforms\n",
    "mlflow.set_tracking_uri('file:./mlruns')"
   ],
   "outputs": [],
   "execution_count": 4
  },
  {
   "cell_type": "code",
   "metadata": {
    "ExecuteTime": {
     "end_time": "2024-12-08T20:29:56.219045Z",
     "start_time": "2024-12-08T20:29:55.546300Z"
    }
   },
   "source": [
    "config={\"cifar10_resnet20_cbam_training\": lambda: ExperimentConfig(\n",
    "        \"CBAM ResNet20\",\n",
    "        DataConfig(name='CIFAR-10',\n",
    "                   test_size=10000,\n",
    "                   train_transform=transforms.Compose([\n",
    "                transforms.RandomHorizontalFlip(0.5),\n",
    "                transforms.RandomCrop(32, padding=4),\n",
    "                transforms.ToTensor(),\n",
    "                transforms.Normalize(mean=[0.4918687901200927, 0.49185976472299225, 0.4918583862227116], std=[0.24697121702736, 0.24696766978537033, 0.2469719877121087])\n",
    "            ]),\n",
    "            test_transform=transforms.Compose([\n",
    "                transforms.ToTensor(),\n",
    "                transforms.Normalize(mean=[0.4918687901200927, 0.49185976472299225, 0.4918583862227116], std=[0.24697121702736, 0.24696766978537033, 0.2469719877121087])\n",
    "            ])),\n",
    "        ModelConfig(model=ResnetCBAM(OriginalBasicBlock,[3, 3, 3], 10, 8),\n",
    "                    lr=0.005,\n",
    "                    optimizer=torch.optim.Adam,\n",
    "                    batch_size=128,\n",
    "                    max_epochs=64000//(45000 // 128),\n",
    "                    weight_decay=0.0001,\n",
    "                    momentum=0.9,\n",
    "                    use_reg=True,\n",
    "                    train_split=ValidSplit(cv=0.1),\n",
    "                    scheduler=LRScheduler(\n",
    "                        policy=MultiStepLR,\n",
    "                        milestones=[\n",
    "                            16000 // (45000 // 128), # == 45\n",
    "                            32000 // (45000 // 128), # == 91\n",
    "                            48000 // (45000 // 128) # == 136\n",
    "                        ],\n",
    "                        gamma=0.1 # this is the multiplication factor (\"divide it by 10\")\n",
    "                    ),\n",
    "                    add_test_set_eval=False,\n",
    "                    use_early_stopping=False,\n",
    "                    log_model=True)\n",
    "    )}"
   ],
   "outputs": [],
   "execution_count": 5
  },
  {
   "cell_type": "code",
   "metadata": {
    "colab": {
     "base_uri": "https://localhost:8080/",
     "height": 1000
    },
    "executionInfo": {
     "elapsed": 10729388,
     "status": "error",
     "timestamp": 1733067387440,
     "user": {
      "displayName": "Nikhil Kapila",
      "userId": "09064794466394477334"
     },
     "user_tz": -240
    },
    "id": "mn5yy8TcP9wK",
    "outputId": "a0edfec3-4acb-48c1-80d2-2bd2838702f6",
    "ExecuteTime": {
     "end_time": "2024-12-08T20:34:01.554722Z",
     "start_time": "2024-12-08T20:29:56.289412Z"
    }
   },
   "source": [
    "pipeline_template.main('cifar10_resnet20_cbam_training',  True, config)"
   ],
   "outputs": [
    {
     "name": "stderr",
     "output_type": "stream",
     "text": [
      "2024/12/09 01:59:57 INFO mlflow.tracking.fluent: Experiment with name 'cbam_resnet20' does not exist. Creating a new experiment.\n"
     ]
    },
    {
     "name": "stdout",
     "output_type": "stream",
     "text": [
      "=== Model Details ===\n",
      "ResnetCBAM(\n",
      "  (conv1): Conv2d(3, 16, kernel_size=(3, 3), stride=(1, 1), padding=(1, 1), bias=False)\n",
      "  (bn1): BatchNorm2d(16, eps=1e-05, momentum=0.1, affine=True, track_running_stats=True)\n",
      "  (relu): ReLU()\n",
      "  (layer1): Sequential(\n",
      "    (0): OriginalBasicBlock(\n",
      "      (conv1): Conv2d(16, 16, kernel_size=(3, 3), stride=(1, 1), padding=(1, 1), bias=False)\n",
      "      (bn1): BatchNorm2d(16, eps=1e-05, momentum=0.1, affine=True, track_running_stats=True)\n",
      "      (relu): ReLU()\n",
      "      (conv2): Conv2d(16, 16, kernel_size=(3, 3), stride=(1, 1), padding=(1, 1), bias=False)\n",
      "      (bn2): BatchNorm2d(16, eps=1e-05, momentum=0.1, affine=True, track_running_stats=True)\n",
      "      (relu2): ReLU()\n",
      "    )\n",
      "    (1): OriginalBasicBlock(\n",
      "      (conv1): Conv2d(16, 16, kernel_size=(3, 3), stride=(1, 1), padding=(1, 1), bias=False)\n",
      "      (bn1): BatchNorm2d(16, eps=1e-05, momentum=0.1, affine=True, track_running_stats=True)\n",
      "      (relu): ReLU()\n",
      "      (conv2): Conv2d(16, 16, kernel_size=(3, 3), stride=(1, 1), padding=(1, 1), bias=False)\n",
      "      (bn2): BatchNorm2d(16, eps=1e-05, momentum=0.1, affine=True, track_running_stats=True)\n",
      "      (relu2): ReLU()\n",
      "    )\n",
      "    (2): OriginalBasicBlock(\n",
      "      (conv1): Conv2d(16, 16, kernel_size=(3, 3), stride=(1, 1), padding=(1, 1), bias=False)\n",
      "      (bn1): BatchNorm2d(16, eps=1e-05, momentum=0.1, affine=True, track_running_stats=True)\n",
      "      (relu): ReLU()\n",
      "      (conv2): Conv2d(16, 16, kernel_size=(3, 3), stride=(1, 1), padding=(1, 1), bias=False)\n",
      "      (bn2): BatchNorm2d(16, eps=1e-05, momentum=0.1, affine=True, track_running_stats=True)\n",
      "      (relu2): ReLU()\n",
      "    )\n",
      "  )\n",
      "  (att1): CBAM(\n",
      "    (channel_attention): ChannelAttention(\n",
      "      (mlp): Sequential(\n",
      "        (0): Linear(in_features=16, out_features=2, bias=False)\n",
      "        (1): ReLU(inplace=True)\n",
      "        (2): Linear(in_features=2, out_features=16, bias=False)\n",
      "      )\n",
      "    )\n",
      "    (spatial_attention): SpatialAttention(\n",
      "      (conv): Conv2d(2, 1, kernel_size=(7, 7), stride=(1, 1), padding=(3, 3))\n",
      "    )\n",
      "  )\n",
      "  (layer2): Sequential(\n",
      "    (0): OriginalBasicBlock(\n",
      "      (conv1): Conv2d(16, 32, kernel_size=(3, 3), stride=(2, 2), padding=(1, 1), bias=False)\n",
      "      (bn1): BatchNorm2d(32, eps=1e-05, momentum=0.1, affine=True, track_running_stats=True)\n",
      "      (relu): ReLU()\n",
      "      (conv2): Conv2d(32, 32, kernel_size=(3, 3), stride=(1, 1), padding=(1, 1), bias=False)\n",
      "      (bn2): BatchNorm2d(32, eps=1e-05, momentum=0.1, affine=True, track_running_stats=True)\n",
      "      (relu2): ReLU()\n",
      "    )\n",
      "    (1): OriginalBasicBlock(\n",
      "      (conv1): Conv2d(32, 32, kernel_size=(3, 3), stride=(1, 1), padding=(1, 1), bias=False)\n",
      "      (bn1): BatchNorm2d(32, eps=1e-05, momentum=0.1, affine=True, track_running_stats=True)\n",
      "      (relu): ReLU()\n",
      "      (conv2): Conv2d(32, 32, kernel_size=(3, 3), stride=(1, 1), padding=(1, 1), bias=False)\n",
      "      (bn2): BatchNorm2d(32, eps=1e-05, momentum=0.1, affine=True, track_running_stats=True)\n",
      "      (relu2): ReLU()\n",
      "    )\n",
      "    (2): OriginalBasicBlock(\n",
      "      (conv1): Conv2d(32, 32, kernel_size=(3, 3), stride=(1, 1), padding=(1, 1), bias=False)\n",
      "      (bn1): BatchNorm2d(32, eps=1e-05, momentum=0.1, affine=True, track_running_stats=True)\n",
      "      (relu): ReLU()\n",
      "      (conv2): Conv2d(32, 32, kernel_size=(3, 3), stride=(1, 1), padding=(1, 1), bias=False)\n",
      "      (bn2): BatchNorm2d(32, eps=1e-05, momentum=0.1, affine=True, track_running_stats=True)\n",
      "      (relu2): ReLU()\n",
      "    )\n",
      "  )\n",
      "  (att2): CBAM(\n",
      "    (channel_attention): ChannelAttention(\n",
      "      (mlp): Sequential(\n",
      "        (0): Linear(in_features=32, out_features=4, bias=False)\n",
      "        (1): ReLU(inplace=True)\n",
      "        (2): Linear(in_features=4, out_features=32, bias=False)\n",
      "      )\n",
      "    )\n",
      "    (spatial_attention): SpatialAttention(\n",
      "      (conv): Conv2d(2, 1, kernel_size=(7, 7), stride=(1, 1), padding=(3, 3))\n",
      "    )\n",
      "  )\n",
      "  (layer3): Sequential(\n",
      "    (0): OriginalBasicBlock(\n",
      "      (conv1): Conv2d(32, 64, kernel_size=(3, 3), stride=(2, 2), padding=(1, 1), bias=False)\n",
      "      (bn1): BatchNorm2d(64, eps=1e-05, momentum=0.1, affine=True, track_running_stats=True)\n",
      "      (relu): ReLU()\n",
      "      (conv2): Conv2d(64, 64, kernel_size=(3, 3), stride=(1, 1), padding=(1, 1), bias=False)\n",
      "      (bn2): BatchNorm2d(64, eps=1e-05, momentum=0.1, affine=True, track_running_stats=True)\n",
      "      (relu2): ReLU()\n",
      "    )\n",
      "    (1): OriginalBasicBlock(\n",
      "      (conv1): Conv2d(64, 64, kernel_size=(3, 3), stride=(1, 1), padding=(1, 1), bias=False)\n",
      "      (bn1): BatchNorm2d(64, eps=1e-05, momentum=0.1, affine=True, track_running_stats=True)\n",
      "      (relu): ReLU()\n",
      "      (conv2): Conv2d(64, 64, kernel_size=(3, 3), stride=(1, 1), padding=(1, 1), bias=False)\n",
      "      (bn2): BatchNorm2d(64, eps=1e-05, momentum=0.1, affine=True, track_running_stats=True)\n",
      "      (relu2): ReLU()\n",
      "    )\n",
      "    (2): OriginalBasicBlock(\n",
      "      (conv1): Conv2d(64, 64, kernel_size=(3, 3), stride=(1, 1), padding=(1, 1), bias=False)\n",
      "      (bn1): BatchNorm2d(64, eps=1e-05, momentum=0.1, affine=True, track_running_stats=True)\n",
      "      (relu): ReLU()\n",
      "      (conv2): Conv2d(64, 64, kernel_size=(3, 3), stride=(1, 1), padding=(1, 1), bias=False)\n",
      "      (bn2): BatchNorm2d(64, eps=1e-05, momentum=0.1, affine=True, track_running_stats=True)\n",
      "      (relu2): ReLU()\n",
      "    )\n",
      "  )\n",
      "  (att3): CBAM(\n",
      "    (channel_attention): ChannelAttention(\n",
      "      (mlp): Sequential(\n",
      "        (0): Linear(in_features=64, out_features=8, bias=False)\n",
      "        (1): ReLU(inplace=True)\n",
      "        (2): Linear(in_features=8, out_features=64, bias=False)\n",
      "      )\n",
      "    )\n",
      "    (spatial_attention): SpatialAttention(\n",
      "      (conv): Conv2d(2, 1, kernel_size=(7, 7), stride=(1, 1), padding=(3, 3))\n",
      "    )\n",
      "  )\n",
      "  (avgpool): AdaptiveAvgPool2d(output_size=(1, 1))\n",
      "  (fc): Linear(in_features=64, out_features=10, bias=True)\n",
      ")\n",
      "\n",
      "=== Hyperparameter Details ===\n",
      "lr: 0.005\n",
      "optimizer: <class 'torch.optim.adam.Adam'>\n",
      "batch_size: 128\n",
      "max_epochs: 182\n",
      "weight_decay: 0.0001\n",
      "use_reg: True\n",
      "momentum: 0.9\n",
      "train_split: <skorch.dataset.ValidSplit object at 0x0000019995C53750>\n",
      "scheduler: <skorch.callbacks.lr_scheduler.LRScheduler object at 0x0000019997958290>\n",
      "log_model: True\n",
      "use_early_stopping: False\n",
      "early_stopping_params: None\n",
      "add_test_set_eval: False\n",
      "\n",
      "Experiment name is cbam_resnet20\n",
      "\n",
      "Experiment ID: 792646246066605409\n",
      "\n",
      "Run ID: 32180c0fe7e74c4386b1e8a18d218a11\n",
      "Model is saved at: ('D:\\\\OMSCS\\\\CS7643 Deep Learning\\\\CNNtention\\\\notebooks\\\\Untuned\\\\run4 - CBAM - With Residual Connections', '792646246066605409\\\\32180c0fe7e74c4386b1e8a18d218a11')\n",
      "MLflow Tracking URI: file:./mlruns\n",
      "Using device: CPU\n",
      "Files already downloaded and verified\n",
      "Files already downloaded and verified\n"
     ]
    },
    {
     "data": {
      "text/plain": [
       "  0%|          | 0/392 [00:00<?, ?it/s]"
      ],
      "application/vnd.jupyter.widget-view+json": {
       "version_major": 2,
       "version_minor": 0,
       "model_id": "10f0d0b9f90d432f94de12dda2b61230"
      }
     },
     "metadata": {},
     "output_type": "display_data"
    },
    {
     "ename": "TypeError",
     "evalue": "'<' not supported between instances of 'NoneType' and 'float'",
     "output_type": "error",
     "traceback": [
      "\u001B[1;31m---------------------------------------------------------------------------\u001B[0m",
      "\u001B[1;31mTypeError\u001B[0m                                 Traceback (most recent call last)",
      "Cell \u001B[1;32mIn[6], line 1\u001B[0m\n\u001B[1;32m----> 1\u001B[0m pipeline_template\u001B[38;5;241m.\u001B[39mmain(\u001B[38;5;124m'\u001B[39m\u001B[38;5;124mcifar10_resnet20_cbam_training\u001B[39m\u001B[38;5;124m'\u001B[39m,  \u001B[38;5;28;01mTrue\u001B[39;00m, config)\n",
      "File \u001B[1;32mD:\\OMSCS\\CS7643 Deep Learning\\CNNtention\\pipeline_template.py:265\u001B[0m, in \u001B[0;36mmain\u001B[1;34m(config_id, debug, supply_config)\u001B[0m\n\u001B[0;32m    261\u001B[0m     \u001B[38;5;28mprint\u001B[39m(\u001B[38;5;124mf\u001B[39m\u001B[38;5;124m\"\u001B[39m\u001B[38;5;124mUsing device: \u001B[39m\u001B[38;5;132;01m{\u001B[39;00m\u001B[38;5;124m'\u001B[39m\u001B[38;5;124mCUDA\u001B[39m\u001B[38;5;124m'\u001B[39m\u001B[38;5;250m \u001B[39m\u001B[38;5;28;01mif\u001B[39;00m\u001B[38;5;250m \u001B[39mtorch\u001B[38;5;241m.\u001B[39mcuda\u001B[38;5;241m.\u001B[39mis_available()\u001B[38;5;250m \u001B[39m\u001B[38;5;28;01melse\u001B[39;00m\u001B[38;5;250m \u001B[39m\u001B[38;5;124m'\u001B[39m\u001B[38;5;124mCPU\u001B[39m\u001B[38;5;124m'\u001B[39m\u001B[38;5;132;01m}\u001B[39;00m\u001B[38;5;124m\"\u001B[39m)\n\u001B[0;32m    263\u001B[0m train_set, test_set \u001B[38;5;241m=\u001B[39m load_data(config\u001B[38;5;241m.\u001B[39mdata_config)\n\u001B[1;32m--> 265\u001B[0m trained_network, model \u001B[38;5;241m=\u001B[39m train(train_set, config\u001B[38;5;241m.\u001B[39mmodel_config, test_set)\n\u001B[0;32m    267\u001B[0m train_loss, valid_loss, valid_err, train_err, test_err, accuracy, error \u001B[38;5;241m=\u001B[39m eval_model(trained_network, test_set)\n\u001B[0;32m    269\u001B[0m plot(config, train_loss, valid_loss, valid_err, train_err, test_err)\n",
      "File \u001B[1;32mD:\\OMSCS\\CS7643 Deep Learning\\CNNtention\\pipeline_template.py:136\u001B[0m, in \u001B[0;36mtrain\u001B[1;34m(train_set, model_config, test_set)\u001B[0m\n\u001B[0;32m    120\u001B[0m mlflow\u001B[38;5;241m.\u001B[39mlog_params(opt_params)\n\u001B[0;32m    122\u001B[0m network \u001B[38;5;241m=\u001B[39m NeuralNetClassifier(\n\u001B[0;32m    123\u001B[0m     model_config\u001B[38;5;241m.\u001B[39mmodel,\n\u001B[0;32m    124\u001B[0m     lr\u001B[38;5;241m=\u001B[39mmodel_config\u001B[38;5;241m.\u001B[39mlr,\n\u001B[1;32m   (...)\u001B[0m\n\u001B[0;32m    133\u001B[0m     \u001B[38;5;241m*\u001B[39m\u001B[38;5;241m*\u001B[39mopt_params\n\u001B[0;32m    134\u001B[0m )\n\u001B[1;32m--> 136\u001B[0m \u001B[38;5;28;01mreturn\u001B[39;00m network\u001B[38;5;241m.\u001B[39mfit(train_set, np\u001B[38;5;241m.\u001B[39marray(train_set\u001B[38;5;241m.\u001B[39mtargets)), network\u001B[38;5;241m.\u001B[39mmodule_\n",
      "File \u001B[1;32m~\\miniconda3\\envs\\cs7643-final-project\\Lib\\site-packages\\skorch\\classifier.py:165\u001B[0m, in \u001B[0;36mNeuralNetClassifier.fit\u001B[1;34m(self, X, y, **fit_params)\u001B[0m\n\u001B[0;32m    154\u001B[0m \u001B[38;5;250m\u001B[39m\u001B[38;5;124;03m\"\"\"See ``NeuralNet.fit``.\u001B[39;00m\n\u001B[0;32m    155\u001B[0m \n\u001B[0;32m    156\u001B[0m \u001B[38;5;124;03mIn contrast to ``NeuralNet.fit``, ``y`` is non-optional to\u001B[39;00m\n\u001B[1;32m   (...)\u001B[0m\n\u001B[0;32m    160\u001B[0m \n\u001B[0;32m    161\u001B[0m \u001B[38;5;124;03m\"\"\"\u001B[39;00m\n\u001B[0;32m    162\u001B[0m \u001B[38;5;66;03m# pylint: disable=useless-super-delegation\u001B[39;00m\n\u001B[0;32m    163\u001B[0m \u001B[38;5;66;03m# this is actually a pylint bug:\u001B[39;00m\n\u001B[0;32m    164\u001B[0m \u001B[38;5;66;03m# https://github.com/PyCQA/pylint/issues/1085\u001B[39;00m\n\u001B[1;32m--> 165\u001B[0m \u001B[38;5;28;01mreturn\u001B[39;00m \u001B[38;5;28msuper\u001B[39m(NeuralNetClassifier, \u001B[38;5;28mself\u001B[39m)\u001B[38;5;241m.\u001B[39mfit(X, y, \u001B[38;5;241m*\u001B[39m\u001B[38;5;241m*\u001B[39mfit_params)\n",
      "File \u001B[1;32m~\\miniconda3\\envs\\cs7643-final-project\\Lib\\site-packages\\skorch\\net.py:1319\u001B[0m, in \u001B[0;36mNeuralNet.fit\u001B[1;34m(self, X, y, **fit_params)\u001B[0m\n\u001B[0;32m   1316\u001B[0m \u001B[38;5;28;01mif\u001B[39;00m \u001B[38;5;129;01mnot\u001B[39;00m \u001B[38;5;28mself\u001B[39m\u001B[38;5;241m.\u001B[39mwarm_start \u001B[38;5;129;01mor\u001B[39;00m \u001B[38;5;129;01mnot\u001B[39;00m \u001B[38;5;28mself\u001B[39m\u001B[38;5;241m.\u001B[39minitialized_:\n\u001B[0;32m   1317\u001B[0m     \u001B[38;5;28mself\u001B[39m\u001B[38;5;241m.\u001B[39minitialize()\n\u001B[1;32m-> 1319\u001B[0m \u001B[38;5;28mself\u001B[39m\u001B[38;5;241m.\u001B[39mpartial_fit(X, y, \u001B[38;5;241m*\u001B[39m\u001B[38;5;241m*\u001B[39mfit_params)\n\u001B[0;32m   1320\u001B[0m \u001B[38;5;28;01mreturn\u001B[39;00m \u001B[38;5;28mself\u001B[39m\n",
      "File \u001B[1;32m~\\miniconda3\\envs\\cs7643-final-project\\Lib\\site-packages\\skorch\\net.py:1278\u001B[0m, in \u001B[0;36mNeuralNet.partial_fit\u001B[1;34m(self, X, y, classes, **fit_params)\u001B[0m\n\u001B[0;32m   1276\u001B[0m \u001B[38;5;28mself\u001B[39m\u001B[38;5;241m.\u001B[39mnotify(\u001B[38;5;124m'\u001B[39m\u001B[38;5;124mon_train_begin\u001B[39m\u001B[38;5;124m'\u001B[39m, X\u001B[38;5;241m=\u001B[39mX, y\u001B[38;5;241m=\u001B[39my)\n\u001B[0;32m   1277\u001B[0m \u001B[38;5;28;01mtry\u001B[39;00m:\n\u001B[1;32m-> 1278\u001B[0m     \u001B[38;5;28mself\u001B[39m\u001B[38;5;241m.\u001B[39mfit_loop(X, y, \u001B[38;5;241m*\u001B[39m\u001B[38;5;241m*\u001B[39mfit_params)\n\u001B[0;32m   1279\u001B[0m \u001B[38;5;28;01mexcept\u001B[39;00m \u001B[38;5;167;01mKeyboardInterrupt\u001B[39;00m:\n\u001B[0;32m   1280\u001B[0m     \u001B[38;5;28;01mpass\u001B[39;00m\n",
      "File \u001B[1;32m~\\miniconda3\\envs\\cs7643-final-project\\Lib\\site-packages\\skorch\\net.py:1196\u001B[0m, in \u001B[0;36mNeuralNet.fit_loop\u001B[1;34m(self, X, y, epochs, **fit_params)\u001B[0m\n\u001B[0;32m   1190\u001B[0m     \u001B[38;5;28mself\u001B[39m\u001B[38;5;241m.\u001B[39mrun_single_epoch(iterator_train, training\u001B[38;5;241m=\u001B[39m\u001B[38;5;28;01mTrue\u001B[39;00m, prefix\u001B[38;5;241m=\u001B[39m\u001B[38;5;124m\"\u001B[39m\u001B[38;5;124mtrain\u001B[39m\u001B[38;5;124m\"\u001B[39m,\n\u001B[0;32m   1191\u001B[0m                           step_fn\u001B[38;5;241m=\u001B[39m\u001B[38;5;28mself\u001B[39m\u001B[38;5;241m.\u001B[39mtrain_step, \u001B[38;5;241m*\u001B[39m\u001B[38;5;241m*\u001B[39mfit_params)\n\u001B[0;32m   1193\u001B[0m     \u001B[38;5;28mself\u001B[39m\u001B[38;5;241m.\u001B[39mrun_single_epoch(iterator_valid, training\u001B[38;5;241m=\u001B[39m\u001B[38;5;28;01mFalse\u001B[39;00m, prefix\u001B[38;5;241m=\u001B[39m\u001B[38;5;124m\"\u001B[39m\u001B[38;5;124mvalid\u001B[39m\u001B[38;5;124m\"\u001B[39m,\n\u001B[0;32m   1194\u001B[0m                           step_fn\u001B[38;5;241m=\u001B[39m\u001B[38;5;28mself\u001B[39m\u001B[38;5;241m.\u001B[39mvalidation_step, \u001B[38;5;241m*\u001B[39m\u001B[38;5;241m*\u001B[39mfit_params)\n\u001B[1;32m-> 1196\u001B[0m     \u001B[38;5;28mself\u001B[39m\u001B[38;5;241m.\u001B[39mnotify(\u001B[38;5;124m\"\u001B[39m\u001B[38;5;124mon_epoch_end\u001B[39m\u001B[38;5;124m\"\u001B[39m, \u001B[38;5;241m*\u001B[39m\u001B[38;5;241m*\u001B[39mon_epoch_kwargs)\n\u001B[0;32m   1197\u001B[0m \u001B[38;5;28;01mreturn\u001B[39;00m \u001B[38;5;28mself\u001B[39m\n",
      "File \u001B[1;32m~\\miniconda3\\envs\\cs7643-final-project\\Lib\\site-packages\\skorch\\net.py:386\u001B[0m, in \u001B[0;36mNeuralNet.notify\u001B[1;34m(self, method_name, **cb_kwargs)\u001B[0m\n\u001B[0;32m    384\u001B[0m \u001B[38;5;28mgetattr\u001B[39m(\u001B[38;5;28mself\u001B[39m, method_name)(\u001B[38;5;28mself\u001B[39m, \u001B[38;5;241m*\u001B[39m\u001B[38;5;241m*\u001B[39mcb_kwargs)\n\u001B[0;32m    385\u001B[0m \u001B[38;5;28;01mfor\u001B[39;00m _, cb \u001B[38;5;129;01min\u001B[39;00m \u001B[38;5;28mself\u001B[39m\u001B[38;5;241m.\u001B[39mcallbacks_:\n\u001B[1;32m--> 386\u001B[0m     \u001B[38;5;28mgetattr\u001B[39m(cb, method_name)(\u001B[38;5;28mself\u001B[39m, \u001B[38;5;241m*\u001B[39m\u001B[38;5;241m*\u001B[39mcb_kwargs)\n",
      "File \u001B[1;32m~\\miniconda3\\envs\\cs7643-final-project\\Lib\\site-packages\\skorch\\callbacks\\scoring.py:491\u001B[0m, in \u001B[0;36mEpochScoring.on_epoch_end\u001B[1;34m(self, net, dataset_train, dataset_valid, **kwargs)\u001B[0m\n\u001B[0;32m    488\u001B[0m \u001B[38;5;28;01mwith\u001B[39;00m _cache_net_forward_iter(net, \u001B[38;5;28mself\u001B[39m\u001B[38;5;241m.\u001B[39muse_caching, y_pred) \u001B[38;5;28;01mas\u001B[39;00m cached_net:\n\u001B[0;32m    489\u001B[0m     current_score \u001B[38;5;241m=\u001B[39m \u001B[38;5;28mself\u001B[39m\u001B[38;5;241m.\u001B[39m_scoring(cached_net, X_test, y_test)\n\u001B[1;32m--> 491\u001B[0m \u001B[38;5;28mself\u001B[39m\u001B[38;5;241m.\u001B[39m_record_score(net\u001B[38;5;241m.\u001B[39mhistory, current_score)\n",
      "File \u001B[1;32m~\\miniconda3\\envs\\cs7643-final-project\\Lib\\site-packages\\skorch\\callbacks\\scoring.py:461\u001B[0m, in \u001B[0;36mEpochScoring._record_score\u001B[1;34m(self, history, current_score)\u001B[0m\n\u001B[0;32m    455\u001B[0m \u001B[38;5;250m\u001B[39m\u001B[38;5;124;03m\"\"\"Record the current store and, if applicable, if it's the best score\u001B[39;00m\n\u001B[0;32m    456\u001B[0m \u001B[38;5;124;03myet.\u001B[39;00m\n\u001B[0;32m    457\u001B[0m \n\u001B[0;32m    458\u001B[0m \u001B[38;5;124;03m\"\"\"\u001B[39;00m\n\u001B[0;32m    459\u001B[0m history\u001B[38;5;241m.\u001B[39mrecord(\u001B[38;5;28mself\u001B[39m\u001B[38;5;241m.\u001B[39mname_, current_score)\n\u001B[1;32m--> 461\u001B[0m is_best \u001B[38;5;241m=\u001B[39m \u001B[38;5;28mself\u001B[39m\u001B[38;5;241m.\u001B[39m_is_best_score(current_score)\n\u001B[0;32m    462\u001B[0m \u001B[38;5;28;01mif\u001B[39;00m is_best \u001B[38;5;129;01mis\u001B[39;00m \u001B[38;5;28;01mNone\u001B[39;00m:\n\u001B[0;32m    463\u001B[0m     \u001B[38;5;28;01mreturn\u001B[39;00m\n",
      "File \u001B[1;32m~\\miniconda3\\envs\\cs7643-final-project\\Lib\\site-packages\\skorch\\callbacks\\scoring.py:187\u001B[0m, in \u001B[0;36mScoringBase._is_best_score\u001B[1;34m(self, current_score)\u001B[0m\n\u001B[0;32m    185\u001B[0m     \u001B[38;5;28;01mreturn\u001B[39;00m \u001B[38;5;28;01mNone\u001B[39;00m\n\u001B[0;32m    186\u001B[0m \u001B[38;5;28;01mif\u001B[39;00m \u001B[38;5;28mself\u001B[39m\u001B[38;5;241m.\u001B[39mlower_is_better:\n\u001B[1;32m--> 187\u001B[0m     \u001B[38;5;28;01mreturn\u001B[39;00m current_score \u001B[38;5;241m<\u001B[39m \u001B[38;5;28mself\u001B[39m\u001B[38;5;241m.\u001B[39mbest_score_\n\u001B[0;32m    188\u001B[0m \u001B[38;5;28;01mreturn\u001B[39;00m current_score \u001B[38;5;241m>\u001B[39m \u001B[38;5;28mself\u001B[39m\u001B[38;5;241m.\u001B[39mbest_score_\n",
      "\u001B[1;31mTypeError\u001B[0m: '<' not supported between instances of 'NoneType' and 'float'"
     ]
    }
   ],
   "execution_count": 6
  },
  {
   "cell_type": "code",
   "metadata": {
    "id": "WQ6NKZjHTjHs"
   },
   "source": [],
   "outputs": [],
   "execution_count": null
  }
 ],
 "metadata": {
  "accelerator": "GPU",
  "colab": {
   "authorship_tag": "ABX9TyOjp9pu5mZ+Cda9L9TIqCFR",
   "gpuType": "T4",
   "mount_file_id": "1MsxxehWF_rTX3jgxdJo0xzwn_TKyIP9Z",
   "provenance": []
  },
  "kernelspec": {
   "display_name": "Python 3 (ipykernel)",
   "language": "python",
   "name": "python3"
  },
  "language_info": {
   "name": "python"
  }
 },
 "nbformat": 4,
 "nbformat_minor": 0
}
