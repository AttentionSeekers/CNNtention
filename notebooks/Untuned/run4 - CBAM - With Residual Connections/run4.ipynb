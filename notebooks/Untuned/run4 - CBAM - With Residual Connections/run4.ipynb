{
 "cells": [
  {
   "cell_type": "code",
   "execution_count": 1,
   "metadata": {
    "ExecuteTime": {
     "end_time": "2024-12-05T01:49:48.855347Z",
     "start_time": "2024-12-05T01:49:48.812414Z"
    },
    "executionInfo": {
     "elapsed": 7,
     "status": "ok",
     "timestamp": 1733056535581,
     "user": {
      "displayName": "Nikhil Kapila",
      "userId": "09064794466394477334"
     },
     "user_tz": -240
    },
    "id": "HzGqs5YML3zs"
   },
   "outputs": [],
   "source": [
    "%load_ext autoreload\n",
    "%autoreload 2"
   ]
  },
  {
   "cell_type": "code",
   "execution_count": 2,
   "metadata": {
    "ExecuteTime": {
     "end_time": "2024-12-05T01:49:50.460443Z",
     "start_time": "2024-12-05T01:49:50.374113Z"
    },
    "colab": {
     "base_uri": "https://localhost:8080/"
    },
    "executionInfo": {
     "elapsed": 7,
     "status": "ok",
     "timestamp": 1733056535581,
     "user": {
      "displayName": "Nikhil Kapila",
      "userId": "09064794466394477334"
     },
     "user_tz": -240
    },
    "id": "lxGp3x5ST-Or",
    "outputId": "bcc0d066-b0bf-4688-8747-0819a585fb76"
   },
   "outputs": [
    {
     "name": "stdout",
     "output_type": "stream",
     "text": [
      "\u001b[0m\u001b[01;34mCNNtention\u001b[0m/  \u001b[01;34massignment4\u001b[0m/  \u001b[01;34mexamples\u001b[0m/  \u001b[01;32mgetting_started.ipynb\u001b[0m*\n",
      "/teamspace/studios/this_studio/CNNtention\n"
     ]
    },
    {
     "name": "stderr",
     "output_type": "stream",
     "text": [
      "/home/zeus/miniconda3/envs/cloudspace/lib/python3.10/site-packages/IPython/core/magics/osm.py:417: UserWarning: using dhist requires you to install the `pickleshare` library.\n",
      "  self.shell.db['dhist'] = compress_dhist(dhist)[-100:]\n"
     ]
    }
   ],
   "source": [
    "%ls\n",
    "%cd CNNtention/"
   ]
  },
  {
   "cell_type": "code",
   "execution_count": 3,
   "metadata": {
    "ExecuteTime": {
     "end_time": "2024-12-05T01:50:04.792519Z",
     "start_time": "2024-12-05T01:49:53.230058Z"
    },
    "executionInfo": {
     "elapsed": 320,
     "status": "ok",
     "timestamp": 1733056612346,
     "user": {
      "displayName": "Nikhil Kapila",
      "userId": "09064794466394477334"
     },
     "user_tz": -240
    },
    "id": "eUH0jzrXPs59"
   },
   "outputs": [],
   "source": [
    "import pipeline_template\n",
    "import mlflow\n",
    "from experiment_configs import configs\n",
    "mlflow.set_tracking_uri('file:./mlruns')"
   ]
  },
  {
   "cell_type": "code",
   "execution_count": 4,
   "metadata": {
    "ExecuteTime": {
     "end_time": "2024-12-05T01:50:05.536526Z",
     "start_time": "2024-12-05T01:50:05.344385Z"
    },
    "colab": {
     "base_uri": "https://localhost:8080/"
    },
    "executionInfo": {
     "elapsed": 497,
     "status": "ok",
     "timestamp": 1733056615573,
     "user": {
      "displayName": "Nikhil Kapila",
      "userId": "09064794466394477334"
     },
     "user_tz": -240
    },
    "id": "-zwOjYObDnon",
    "outputId": "364f140c-d775-4da7-fc18-9420c589ffe2"
   },
   "outputs": [
    {
     "name": "stdout",
     "output_type": "stream",
     "text": [
      "ResnetCBAM(\n",
      "  (conv1): Conv2d(3, 16, kernel_size=(3, 3), stride=(1, 1), padding=(1, 1), bias=False)\n",
      "  (bn1): BatchNorm2d(16, eps=1e-05, momentum=0.1, affine=True, track_running_stats=True)\n",
      "  (relu): ReLU()\n",
      "  (layer1): Sequential(\n",
      "    (0): OriginalBasicBlock(\n",
      "      (conv1): Conv2d(16, 16, kernel_size=(3, 3), stride=(1, 1), padding=(1, 1), bias=False)\n",
      "      (bn1): BatchNorm2d(16, eps=1e-05, momentum=0.1, affine=True, track_running_stats=True)\n",
      "      (relu): ReLU()\n",
      "      (conv2): Conv2d(16, 16, kernel_size=(3, 3), stride=(1, 1), padding=(1, 1), bias=False)\n",
      "      (bn2): BatchNorm2d(16, eps=1e-05, momentum=0.1, affine=True, track_running_stats=True)\n",
      "      (relu2): ReLU()\n",
      "    )\n",
      "    (1): OriginalBasicBlock(\n",
      "      (conv1): Conv2d(16, 16, kernel_size=(3, 3), stride=(1, 1), padding=(1, 1), bias=False)\n",
      "      (bn1): BatchNorm2d(16, eps=1e-05, momentum=0.1, affine=True, track_running_stats=True)\n",
      "      (relu): ReLU()\n",
      "      (conv2): Conv2d(16, 16, kernel_size=(3, 3), stride=(1, 1), padding=(1, 1), bias=False)\n",
      "      (bn2): BatchNorm2d(16, eps=1e-05, momentum=0.1, affine=True, track_running_stats=True)\n",
      "      (relu2): ReLU()\n",
      "    )\n",
      "    (2): OriginalBasicBlock(\n",
      "      (conv1): Conv2d(16, 16, kernel_size=(3, 3), stride=(1, 1), padding=(1, 1), bias=False)\n",
      "      (bn1): BatchNorm2d(16, eps=1e-05, momentum=0.1, affine=True, track_running_stats=True)\n",
      "      (relu): ReLU()\n",
      "      (conv2): Conv2d(16, 16, kernel_size=(3, 3), stride=(1, 1), padding=(1, 1), bias=False)\n",
      "      (bn2): BatchNorm2d(16, eps=1e-05, momentum=0.1, affine=True, track_running_stats=True)\n",
      "      (relu2): ReLU()\n",
      "    )\n",
      "  )\n",
      "  (att1): CBAM(\n",
      "    (channel_attention): ChannelAttention(\n",
      "      (mlp): Sequential(\n",
      "        (0): Linear(in_features=16, out_features=2, bias=False)\n",
      "        (1): ReLU(inplace=True)\n",
      "        (2): Linear(in_features=2, out_features=16, bias=False)\n",
      "      )\n",
      "    )\n",
      "    (spatial_attention): SpatialAttention(\n",
      "      (conv): Conv2d(2, 1, kernel_size=(7, 7), stride=(1, 1), padding=(3, 3))\n",
      "    )\n",
      "  )\n",
      "  (layer2): Sequential(\n",
      "    (0): OriginalBasicBlock(\n",
      "      (conv1): Conv2d(16, 32, kernel_size=(3, 3), stride=(2, 2), padding=(1, 1), bias=False)\n",
      "      (bn1): BatchNorm2d(32, eps=1e-05, momentum=0.1, affine=True, track_running_stats=True)\n",
      "      (relu): ReLU()\n",
      "      (conv2): Conv2d(32, 32, kernel_size=(3, 3), stride=(1, 1), padding=(1, 1), bias=False)\n",
      "      (bn2): BatchNorm2d(32, eps=1e-05, momentum=0.1, affine=True, track_running_stats=True)\n",
      "      (relu2): ReLU()\n",
      "    )\n",
      "    (1): OriginalBasicBlock(\n",
      "      (conv1): Conv2d(32, 32, kernel_size=(3, 3), stride=(1, 1), padding=(1, 1), bias=False)\n",
      "      (bn1): BatchNorm2d(32, eps=1e-05, momentum=0.1, affine=True, track_running_stats=True)\n",
      "      (relu): ReLU()\n",
      "      (conv2): Conv2d(32, 32, kernel_size=(3, 3), stride=(1, 1), padding=(1, 1), bias=False)\n",
      "      (bn2): BatchNorm2d(32, eps=1e-05, momentum=0.1, affine=True, track_running_stats=True)\n",
      "      (relu2): ReLU()\n",
      "    )\n",
      "    (2): OriginalBasicBlock(\n",
      "      (conv1): Conv2d(32, 32, kernel_size=(3, 3), stride=(1, 1), padding=(1, 1), bias=False)\n",
      "      (bn1): BatchNorm2d(32, eps=1e-05, momentum=0.1, affine=True, track_running_stats=True)\n",
      "      (relu): ReLU()\n",
      "      (conv2): Conv2d(32, 32, kernel_size=(3, 3), stride=(1, 1), padding=(1, 1), bias=False)\n",
      "      (bn2): BatchNorm2d(32, eps=1e-05, momentum=0.1, affine=True, track_running_stats=True)\n",
      "      (relu2): ReLU()\n",
      "    )\n",
      "  )\n",
      "  (att2): CBAM(\n",
      "    (channel_attention): ChannelAttention(\n",
      "      (mlp): Sequential(\n",
      "        (0): Linear(in_features=32, out_features=4, bias=False)\n",
      "        (1): ReLU(inplace=True)\n",
      "        (2): Linear(in_features=4, out_features=32, bias=False)\n",
      "      )\n",
      "    )\n",
      "    (spatial_attention): SpatialAttention(\n",
      "      (conv): Conv2d(2, 1, kernel_size=(7, 7), stride=(1, 1), padding=(3, 3))\n",
      "    )\n",
      "  )\n",
      "  (layer3): Sequential(\n",
      "    (0): OriginalBasicBlock(\n",
      "      (conv1): Conv2d(32, 64, kernel_size=(3, 3), stride=(2, 2), padding=(1, 1), bias=False)\n",
      "      (bn1): BatchNorm2d(64, eps=1e-05, momentum=0.1, affine=True, track_running_stats=True)\n",
      "      (relu): ReLU()\n",
      "      (conv2): Conv2d(64, 64, kernel_size=(3, 3), stride=(1, 1), padding=(1, 1), bias=False)\n",
      "      (bn2): BatchNorm2d(64, eps=1e-05, momentum=0.1, affine=True, track_running_stats=True)\n",
      "      (relu2): ReLU()\n",
      "    )\n",
      "    (1): OriginalBasicBlock(\n",
      "      (conv1): Conv2d(64, 64, kernel_size=(3, 3), stride=(1, 1), padding=(1, 1), bias=False)\n",
      "      (bn1): BatchNorm2d(64, eps=1e-05, momentum=0.1, affine=True, track_running_stats=True)\n",
      "      (relu): ReLU()\n",
      "      (conv2): Conv2d(64, 64, kernel_size=(3, 3), stride=(1, 1), padding=(1, 1), bias=False)\n",
      "      (bn2): BatchNorm2d(64, eps=1e-05, momentum=0.1, affine=True, track_running_stats=True)\n",
      "      (relu2): ReLU()\n",
      "    )\n",
      "    (2): OriginalBasicBlock(\n",
      "      (conv1): Conv2d(64, 64, kernel_size=(3, 3), stride=(1, 1), padding=(1, 1), bias=False)\n",
      "      (bn1): BatchNorm2d(64, eps=1e-05, momentum=0.1, affine=True, track_running_stats=True)\n",
      "      (relu): ReLU()\n",
      "      (conv2): Conv2d(64, 64, kernel_size=(3, 3), stride=(1, 1), padding=(1, 1), bias=False)\n",
      "      (bn2): BatchNorm2d(64, eps=1e-05, momentum=0.1, affine=True, track_running_stats=True)\n",
      "      (relu2): ReLU()\n",
      "    )\n",
      "  )\n",
      "  (att3): CBAM(\n",
      "    (channel_attention): ChannelAttention(\n",
      "      (mlp): Sequential(\n",
      "        (0): Linear(in_features=64, out_features=8, bias=False)\n",
      "        (1): ReLU(inplace=True)\n",
      "        (2): Linear(in_features=8, out_features=64, bias=False)\n",
      "      )\n",
      "    )\n",
      "    (spatial_attention): SpatialAttention(\n",
      "      (conv): Conv2d(2, 1, kernel_size=(7, 7), stride=(1, 1), padding=(3, 3))\n",
      "    )\n",
      "  )\n",
      "  (avgpool): AdaptiveAvgPool2d(output_size=(1, 1))\n",
      "  (fc): Linear(in_features=64, out_features=10, bias=True)\n",
      ")\n"
     ]
    }
   ],
   "source": [
    "config = configs['cifar10_resnet20_cbam_training']()\n",
    "print(config.model_config.model)"
   ]
  },
  {
   "cell_type": "code",
   "execution_count": 5,
   "metadata": {
    "ExecuteTime": {
     "end_time": "2024-12-05T01:50:07.437369Z",
     "start_time": "2024-12-05T01:50:07.285548Z"
    },
    "colab": {
     "base_uri": "https://localhost:8080/"
    },
    "executionInfo": {
     "elapsed": 510,
     "status": "ok",
     "timestamp": 1733056654270,
     "user": {
      "displayName": "Nikhil Kapila",
      "userId": "09064794466394477334"
     },
     "user_tz": -240
    },
    "id": "YmFfoZ9jIeoG",
    "outputId": "e972a1fb-fd56-4a92-b928-05399d0fa74c"
   },
   "outputs": [
    {
     "name": "stdout",
     "output_type": "stream",
     "text": [
      "lr: 0.005\n",
      "optimizer: <class 'torch.optim.sgd.SGD'>\n",
      "batch_size: 128\n",
      "max_epochs: 182\n",
      "weight_decay: 0.0001\n",
      "use_reg: True\n",
      "momentum: 0.9\n",
      "train_split: None\n",
      "scheduler: <skorch.callbacks.lr_scheduler.LRScheduler object at 0x7fb57ff42f20>\n",
      "log_model: True\n",
      "use_early_stopping: False\n",
      "early_stopping_params: None\n",
      "add_test_set_eval: True\n"
     ]
    }
   ],
   "source": [
    "def get_hyperparams(config):\n",
    "  model_config = vars(config.model_config)\n",
    "\n",
    "  for key, value in model_config.items():\n",
    "    if key != 'model':\n",
    "        print(f\"{key}: {value}\")\n",
    "\n",
    "get_hyperparams(config)"
   ]
  },
  {
   "cell_type": "code",
   "execution_count": 7,
   "metadata": {
    "ExecuteTime": {
     "end_time": "2024-12-05T02:19:03.038116Z",
     "start_time": "2024-12-05T02:18:03.782360Z"
    },
    "colab": {
     "base_uri": "https://localhost:8080/",
     "height": 1000
    },
    "executionInfo": {
     "elapsed": 10729388,
     "status": "error",
     "timestamp": 1733067387440,
     "user": {
      "displayName": "Nikhil Kapila",
      "userId": "09064794466394477334"
     },
     "user_tz": -240
    },
    "id": "mn5yy8TcP9wK",
    "outputId": "a0edfec3-4acb-48c1-80d2-2bd2838702f6"
   },
   "outputs": [
    {
     "name": "stdout",
     "output_type": "stream",
     "text": [
      "Files already downloaded and verified\n",
      "Files already downloaded and verified\n"
     ]
    },
    {
     "data": {
      "application/vnd.jupyter.widget-view+json": {
       "model_id": "f719c2d618b84a0abac217a4601ced11",
       "version_major": 2,
       "version_minor": 0
      },
      "text/plain": [
       "  0%|          | 0/391 [00:00<?, ?it/s]"
      ]
     },
     "metadata": {},
     "output_type": "display_data"
    },
    {
     "name": "stdout",
     "output_type": "stream",
     "text": [
      "Test set accuracy: 0.1344\n",
      "Test set error: 86.56\n"
     ]
    }
   ],
   "source": [
    "pipeline_template.main('cifar10_resnet20_cbam_training')"
   ]
  },
  {
   "cell_type": "code",
   "execution_count": null,
   "metadata": {
    "id": "WQ6NKZjHTjHs"
   },
   "outputs": [],
   "source": []
  }
 ],
 "metadata": {
  "accelerator": "GPU",
  "colab": {
   "authorship_tag": "ABX9TyOjp9pu5mZ+Cda9L9TIqCFR",
   "gpuType": "T4",
   "mount_file_id": "1MsxxehWF_rTX3jgxdJo0xzwn_TKyIP9Z",
   "provenance": []
  },
  "kernelspec": {
   "display_name": "Python 3 (ipykernel)",
   "language": "python",
   "name": "python3"
  },
  "language_info": {
   "name": "python"
  }
 },
 "nbformat": 4,
 "nbformat_minor": 0
}
