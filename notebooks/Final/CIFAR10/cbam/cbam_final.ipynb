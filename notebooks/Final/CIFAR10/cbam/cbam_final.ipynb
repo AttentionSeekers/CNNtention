{
 "cells": [
  {
   "cell_type": "code",
   "metadata": {
    "executionInfo": {
     "elapsed": 705,
     "status": "ok",
     "timestamp": 1733226418050,
     "user": {
      "displayName": "Nikhil Kapila",
      "userId": "09064794466394477334"
     },
     "user_tz": -240
    },
    "id": "E43KWkXclFxZ"
   },
   "source": [
    "%load_ext autoreload\n",
    "%autoreload 2"
   ],
   "outputs": [],
   "execution_count": null
  },
  {
   "cell_type": "code",
   "metadata": {
    "colab": {
     "base_uri": "https://localhost:8080/"
    },
    "executionInfo": {
     "elapsed": 11,
     "status": "ok",
     "timestamp": 1733226485655,
     "user": {
      "displayName": "Nikhil Kapila",
      "userId": "09064794466394477334"
     },
     "user_tz": -240
    },
    "id": "lxGp3x5ST-Or",
    "outputId": "0ebc60b1-f152-4c9c-fa7f-c2ab40227a00"
   },
   "source": [
    "%ls\n",
    "%cd CNNtention/"
   ],
   "outputs": [],
   "execution_count": null
  },
  {
   "cell_type": "code",
   "metadata": {
    "executionInfo": {
     "elapsed": 20091,
     "status": "ok",
     "timestamp": 1733226505741,
     "user": {
      "displayName": "Nikhil Kapila",
      "userId": "09064794466394477334"
     },
     "user_tz": -240
    },
    "id": "eUH0jzrXPs59"
   },
   "source": [
    "import pipeline_template, mlflow, torch\n",
    "from experiment_configs import ExperimentConfig, ModelConfig, DataConfig\n",
    "from models.resnet_cbam import ResnetCBAM\n",
    "from models.original_basic_block import OriginalBasicBlock\n",
    "from skorch.callbacks import LRScheduler\n",
    "from torch.optim.lr_scheduler import MultiStepLR\n",
    "from torchvision.transforms import transforms\n",
    "mlflow.set_tracking_uri('file:./mlruns')"
   ],
   "outputs": [],
   "execution_count": null
  },
  {
   "cell_type": "code",
   "metadata": {
    "executionInfo": {
     "elapsed": 962,
     "status": "ok",
     "timestamp": 1733227089015,
     "user": {
      "displayName": "Nikhil Kapila",
      "userId": "09064794466394477334"
     },
     "user_tz": -240
    },
    "id": "TSHk-zojUKby"
   },
   "source": [
    "config={\n",
    "    \"cbam_att_final\": lambda: ExperimentConfig(\n",
    "        \"CBAM Attention Final\",\n",
    "        DataConfig(name='CIFAR-10',\n",
    "                   test_size=10000,\n",
    "                   train_transform=transforms.Compose([\n",
    "                       transforms.RandomHorizontalFlip(0.5),\n",
    "                       transforms.RandomCrop(32, padding=4),\n",
    "                       transforms.ToTensor(),\n",
    "                       transforms.Normalize(mean=[0.4918687901200927, 0.49185976472299225, 0.4918583862227116], std=[0.24697121702736, 0.24696766978537033, 0.2469719877121087])\n",
    "                   ]),\n",
    "                   test_transform=transforms.Compose([\n",
    "                       transforms.ToTensor(),\n",
    "                       transforms.Normalize(mean=[0.4918687901200927, 0.49185976472299225, 0.4918583862227116], std=[0.24697121702736, 0.24696766978537033, 0.2469719877121087])\n",
    "                   ])),\n",
    "        ModelConfig(model=ResnetCBAM(OriginalBasicBlock, [3,3,3], 10, 16),\n",
    "                    lr=0.005,\n",
    "                    optimizer=torch.optim.Adam,\n",
    "                    weight_decay=0.0001,\n",
    "                    use_reg=True,\n",
    "                    batch_size=128,\n",
    "                    max_epochs=1,\n",
    "                    momentum=0.9,\n",
    "                    train_split=None,\n",
    "                    scheduler=LRScheduler(\n",
    "                        policy=MultiStepLR,\n",
    "                        milestones=[\n",
    "                            16000 // (45000 // 128), # == 45\n",
    "                            32000 // (45000 // 128), # == 91\n",
    "                            48000 // (45000 // 128) # == 136\n",
    "                        ],\n",
    "                        gamma=0.1 # this is the multiplication factor (\"divide it by 10\")\n",
    "                    ),\n",
    "                    log_model=True,\n",
    "                    use_early_stopping=True,\n",
    "                    early_stopping_params={\n",
    "                        'patience': 20,\n",
    "                        'threshold': 0.001,\n",
    "                        'threshold_mode': 'rel'\n",
    "                    },\n",
    "                    add_test_set_eval=True,\n",
    "                    )\n",
    "    )}"
   ],
   "outputs": [],
   "execution_count": null
  },
  {
   "cell_type": "code",
   "metadata": {
    "colab": {
     "base_uri": "https://localhost:8080/",
     "height": 1000
    },
    "executionInfo": {
     "elapsed": 10755678,
     "status": "ok",
     "timestamp": 1733237853522,
     "user": {
      "displayName": "Nikhil Kapila",
      "userId": "09064794466394477334"
     },
     "user_tz": -240
    },
    "id": "mn5yy8TcP9wK",
    "outputId": "1a7d73c7-24e2-4701-d9e1-d27d21d524b4"
   },
   "source": "pipeline_template.main('cbam_att_final', True, config)",
   "outputs": [],
   "execution_count": null
  }
 ],
 "metadata": {
  "accelerator": "GPU",
  "colab": {
   "authorship_tag": "ABX9TyNvN2PHwL7HbN1lrQIe1bJh",
   "gpuType": "L4",
   "mount_file_id": "1MsxxehWF_rTX3jgxdJo0xzwn_TKyIP9Z",
   "provenance": []
  },
  "kernelspec": {
   "display_name": "Python 3 (ipykernel)",
   "name": "python3",
   "language": "python"
  },
  "language_info": {
   "name": "python"
  }
 },
 "nbformat": 4,
 "nbformat_minor": 0
}
