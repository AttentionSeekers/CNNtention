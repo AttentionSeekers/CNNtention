{
 "cells": [
  {
   "cell_type": "code",
   "execution_count": 1,
   "metadata": {
    "ExecuteTime": {
     "end_time": "2024-12-10T21:25:03.019996Z",
     "start_time": "2024-12-10T21:24:57.881731Z"
    }
   },
   "outputs": [],
   "source": [
    "#!/usr/bin/env python3\n",
    "# -*- coding: utf-8 -*-\n",
    "\"\"\"\n",
    "Created on 2024-12-04 18:29:52 Wednesday\n",
    "\n",
    "@author: Nikhil Kapila\n",
    "\"\"\"\n",
    "\n",
    "import os, sys\n",
    "path = False"
   ]
  },
  {
   "cell_type": "code",
   "execution_count": 2,
   "metadata": {},
   "outputs": [],
   "source": [
    "if path is False:\n",
    "    sys.path.append(os.path.abspath(os.path.join(os.getcwd(),'..', '..', '..')))\n",
    "    os.chdir(os.path.abspath(os.path.join(os.getcwd(),'..', '..')))\n",
    "    path = True\n",
    "else: print('Already changed to correct directory.')\n",
    "\n",
    "from utils.model_loader import MLFlowModelLoader"
   ]
  },
  {
   "cell_type": "markdown",
   "metadata": {},
   "source": [
    "## Models Loading"
   ]
  },
  {
   "cell_type": "code",
   "execution_count": 3,
   "metadata": {
    "ExecuteTime": {
     "end_time": "2024-12-10T21:25:05.425254Z",
     "start_time": "2024-12-10T21:25:03.029002Z"
    }
   },
   "outputs": [],
   "source": [
    "from models.mnistresnet import MNISTResNet\n",
    "from models.resnet_self_att_mnist import ResnetSelfAttMNIST\n",
    "from models.resnet_multi_head_att_mnist import ResnetMultiHeadAttMNIST\n",
    "from models.resnet_cbam_mnist import ResnetCBAM\n",
    "from models.original_basic_block import OriginalBasicBlock"
   ]
  },
  {
   "cell_type": "code",
   "execution_count": 4,
   "metadata": {
    "ExecuteTime": {
     "end_time": "2024-12-10T21:25:05.535854Z",
     "start_time": "2024-12-10T21:25:05.507022Z"
    }
   },
   "outputs": [
    {
     "name": "stdout",
     "output_type": "stream",
     "text": [
      "It seems that the model for this run was not logged.\n",
      "[Errno 2] No such file or directory: '/Users/nkapila6/Code/CNNtention/mlruns/993463987470781520/08ef1e5e2ca0421ebad1f90a4e9fad48/artifacts/model/data'\n",
      "Object params.pth loaded.\n"
     ]
    },
    {
     "name": "stderr",
     "output_type": "stream",
     "text": [
      "/Users/nkapila6/Code/CNNtention/utils/model_loader.py:62: FutureWarning: You are using `torch.load` with `weights_only=False` (the current default value), which uses the default pickle module implicitly. It is possible to construct malicious pickle data which will execute arbitrary code during unpickling (See https://github.com/pytorch/pytorch/blob/main/SECURITY.md#untrusted-models for more details). In a future release, the default value for `weights_only` will be flipped to `True`. This limits the functions that could be executed during unpickling. Arbitrary objects will no longer be allowed to be loaded via this mode unless they are explicitly allowlisted by the user via `torch.serialization.add_safe_globals`. We recommend you start setting `weights_only=True` for any use case where you don't have full control of the loaded file. Please open an issue on GitHub for any issues related to this experimental feature.\n",
      "  object.load_state_dict(torch.load(path, map_location=torch.device(device)))\n"
     ]
    }
   ],
   "source": [
    "base_model = MNISTResNet(\n",
    "    OriginalBasicBlock,\n",
    "    [3, 3, 3],\n",
    "    10\n",
    ")\n",
    "\n",
    "loader = MLFlowModelLoader(run_id='08ef1e5e2ca0421ebad1f90a4e9fad48', \n",
    "                           experiment_id='993463987470781520',\n",
    "                           tracking_uri='', ui_open=False)\n",
    "\n",
    "resnet20 = loader.load_weights(base_model)"
   ]
  },
  {
   "cell_type": "code",
   "execution_count": 5,
   "metadata": {
    "ExecuteTime": {
     "end_time": "2024-12-10T21:25:05.578078Z",
     "start_time": "2024-12-10T21:25:05.553189Z"
    }
   },
   "outputs": [
    {
     "name": "stdout",
     "output_type": "stream",
     "text": [
      "It seems that the model for this run was not logged.\n",
      "[Errno 2] No such file or directory: '/Users/nkapila6/Code/CNNtention/mlruns/451732630027606899/7b75f0679c23498f98a09a8c460376d3/artifacts/model/data'\n",
      "Object params.pth loaded.\n"
     ]
    }
   ],
   "source": [
    "self_att_model = ResnetSelfAttMNIST(OriginalBasicBlock,\n",
    "                               [3, 3, 3],\n",
    "                               10\n",
    "                               )\n",
    "\n",
    "loader2 = MLFlowModelLoader(run_id='7b75f0679c23498f98a09a8c460376d3',\n",
    "                           experiment_id='451732630027606899',\n",
    "                           tracking_uri='',\n",
    "                           ui_open=False)\n",
    "\n",
    "resnet20selfatt = loader2.load_weights(self_att_model)"
   ]
  },
  {
   "cell_type": "code",
   "execution_count": 6,
   "metadata": {
    "ExecuteTime": {
     "end_time": "2024-12-10T21:25:05.617607Z",
     "start_time": "2024-12-10T21:25:05.591295Z"
    }
   },
   "outputs": [
    {
     "name": "stdout",
     "output_type": "stream",
     "text": [
      "It seems that the model for this run was not logged.\n",
      "[Errno 2] No such file or directory: '/Users/nkapila6/Code/CNNtention/mlruns/142325963722404463/b88ac087f70044f68929fbdc25f94599/artifacts/model/data'\n",
      "Object params.pth loaded.\n"
     ]
    }
   ],
   "source": [
    "multi_head_att = ResnetMultiHeadAttMNIST(OriginalBasicBlock,\n",
    "                               [3, 3, 3],\n",
    "                               10\n",
    "                               )\n",
    "\n",
    "loader3 = MLFlowModelLoader(run_id='b88ac087f70044f68929fbdc25f94599',\n",
    "                           experiment_id='142325963722404463',\n",
    "                           tracking_uri='',\n",
    "                           ui_open=False)\n",
    "\n",
    "resnet20mhatt = loader3.load_weights(multi_head_att)"
   ]
  },
  {
   "cell_type": "code",
   "execution_count": 7,
   "metadata": {
    "ExecuteTime": {
     "end_time": "2024-12-10T21:25:05.670432Z",
     "start_time": "2024-12-10T21:25:05.644826Z"
    }
   },
   "outputs": [
    {
     "name": "stdout",
     "output_type": "stream",
     "text": [
      "It seems that the model for this run was not logged.\n",
      "[Errno 2] No such file or directory: '/Users/nkapila6/Code/CNNtention/mlruns/605196631731438821/1717fd3a37e0440686d1abd8d91b91b8/artifacts/model/data'\n",
      "Object params.pth loaded.\n"
     ]
    }
   ],
   "source": [
    "cbam_att_final = ResnetCBAM(OriginalBasicBlock,\n",
    "                               [3, 3, 3],\n",
    "                               10, 16\n",
    "                               )\n",
    "\n",
    "loader4 = MLFlowModelLoader(run_id='1717fd3a37e0440686d1abd8d91b91b8',\n",
    "                           experiment_id='605196631731438821',\n",
    "                           tracking_uri='',\n",
    "                           ui_open=False)\n",
    "\n",
    "resnet20cbamatt_final = loader4.load_weights(cbam_att_final)"
   ]
  },
  {
   "cell_type": "code",
   "execution_count": 8,
   "metadata": {},
   "outputs": [
    {
     "data": {
      "text/plain": [
       "Sequential(\n",
       "  (0): OriginalBasicBlock(\n",
       "    (conv1): Conv2d(32, 64, kernel_size=(3, 3), stride=(2, 2), padding=(1, 1), bias=False)\n",
       "    (bn1): BatchNorm2d(64, eps=1e-05, momentum=0.1, affine=True, track_running_stats=True)\n",
       "    (relu): ReLU()\n",
       "    (conv2): Conv2d(64, 64, kernel_size=(3, 3), stride=(1, 1), padding=(1, 1), bias=False)\n",
       "    (bn2): BatchNorm2d(64, eps=1e-05, momentum=0.1, affine=True, track_running_stats=True)\n",
       "    (relu2): ReLU()\n",
       "  )\n",
       "  (1): OriginalBasicBlock(\n",
       "    (conv1): Conv2d(64, 64, kernel_size=(3, 3), stride=(1, 1), padding=(1, 1), bias=False)\n",
       "    (bn1): BatchNorm2d(64, eps=1e-05, momentum=0.1, affine=True, track_running_stats=True)\n",
       "    (relu): ReLU()\n",
       "    (conv2): Conv2d(64, 64, kernel_size=(3, 3), stride=(1, 1), padding=(1, 1), bias=False)\n",
       "    (bn2): BatchNorm2d(64, eps=1e-05, momentum=0.1, affine=True, track_running_stats=True)\n",
       "    (relu2): ReLU()\n",
       "  )\n",
       "  (2): OriginalBasicBlock(\n",
       "    (conv1): Conv2d(64, 64, kernel_size=(3, 3), stride=(1, 1), padding=(1, 1), bias=False)\n",
       "    (bn1): BatchNorm2d(64, eps=1e-05, momentum=0.1, affine=True, track_running_stats=True)\n",
       "    (relu): ReLU()\n",
       "    (conv2): Conv2d(64, 64, kernel_size=(3, 3), stride=(1, 1), padding=(1, 1), bias=False)\n",
       "    (bn2): BatchNorm2d(64, eps=1e-05, momentum=0.1, affine=True, track_running_stats=True)\n",
       "    (relu2): ReLU()\n",
       "  )\n",
       ")"
      ]
     },
     "execution_count": 8,
     "metadata": {},
     "output_type": "execute_result"
    }
   ],
   "source": [
    "resnet20.layer3"
   ]
  },
  {
   "cell_type": "code",
   "execution_count": 9,
   "metadata": {
    "ExecuteTime": {
     "end_time": "2024-12-10T21:25:07.274441Z",
     "start_time": "2024-12-10T21:25:05.684732Z"
    }
   },
   "outputs": [],
   "source": [
    "from utils.viz import Viz\n",
    "\n",
    "viz = Viz([resnet20, resnet20selfatt, resnet20mhatt, resnet20cbamatt_final],\n",
    "              [resnet20.layer3[-1], resnet20selfatt.att3, resnet20mhatt.att3, resnet20cbamatt_final.att3], dataset='MNIST')"
   ]
  },
  {
   "cell_type": "code",
   "execution_count": 12,
   "metadata": {
    "ExecuteTime": {
     "end_time": "2024-12-10T21:25:08.575590Z",
     "start_time": "2024-12-10T21:25:07.288379Z"
    }
   },
   "outputs": [
    {
     "data": {
      "image/png": "[encoded data removed]",
      "text/plain": [
       "<Figure size 700x700 with 5 Axes>"
      ]
     },
     "metadata": {},
     "output_type": "display_data"
    }
   ],
   "source": [
    "fig = viz.get_gradcam(4228)"
   ]
  }
 ],
 "metadata": {
  "kernelspec": {
   "display_name": "dl",
   "language": "python",
   "name": "python3"
  },
  "language_info": {
   "codemirror_mode": {
    "name": "ipython",
    "version": 3
   },
   "file_extension": ".py",
   "mimetype": "text/x-python",
   "name": "python",
   "nbconvert_exporter": "python",
   "pygments_lexer": "ipython3",
   "version": "3.10.15"
  }
 },
 "nbformat": 4,
 "nbformat_minor": 2
}
